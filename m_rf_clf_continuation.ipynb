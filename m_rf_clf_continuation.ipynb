{
  "cells": [
    {
      "cell_type": "markdown",
      "source": [
        "# Principal Component Analysis (PCA) for Feature Engineering\n",
        "\n",
        "In this notebook, we will use Principal Component Analysis (PCA) as a feature engineering technique to improve the performance of our Random Forest Classifier model. PCA is a dimensionality reduction technique that is widely used in machine learning and data visualization. It can be particularly useful when dealing with high-dimensional data, or when many of the features are correlated.\n",
        "\n",
        "PCA works by identifying the 'directions' (or principal components) in which the data varies the most, and creating new features that are linear combinations of the original features along these directions. The new features are orthogonal (uncorrelated), which can help to improve the performance of some machine learning algorithms.\n",
        "\n",
        "We will apply PCA to the SPY daily price data and evaluate its impact on the performance of our Random Forest Classifier model."
      ],
      "metadata": {
        "noteable": {
          "cell_type": "markdown"
        }
      },
      "id": "c25f7fb7-2d31-4ffb-be68-e0eaf1b2a0a7"
    },
    {
      "cell_type": "code",
      "source": [
        "import pandas as pd\n",
        "from sklearn.decomposition import PCA\n",
        "from sklearn.ensemble import RandomForestClassifier\n",
        "from sklearn.model_selection import train_test_split\n",
        "import seaborn as sns\n",
        "import matplotlib.pyplot as plt\n",
        "from sklearn.metrics import classification_report, confusion_matrix, accuracy_score, precision_score, recall_score, f1_score\n",
        "import numpy as np\n",
        "# Load the data\n",
        "df = pd.read_csv('SPY_pre_train.csv')\n",
        "df.head()"
      ],
      "outputs": [
        {
          "output_type": "display_data",
          "data": {
            "application/vnd.dataresource+json": {
              "schema": {
                "fields": [
                  {
                    "name": "index",
                    "type": "integer"
                  },
                  {
                    "name": "Unnamed: 0",
                    "type": "integer"
                  },
                  {
                    "name": "Date",
                    "type": "integer"
                  },
                  {
                    "name": "Open",
                    "type": "number"
                  },
                  {
                    "name": "High",
                    "type": "number"
                  },
                  {
                    "name": "Low",
                    "type": "number"
                  },
                  {
                    "name": "Close",
                    "type": "number"
                  },
                  {
                    "name": "Adj Close",
                    "type": "number"
                  },
                  {
                    "name": "Volume",
                    "type": "integer"
                  },
                  {
                    "name": "candlestick_color",
                    "type": "integer"
                  },
                  {
                    "name": "Tomorrow_Open",
                    "type": "number"
                  }
                ],
                "primaryKey": [
                  "index"
                ],
                "pandas_version": "1.4.0"
              },
              "data": [
                {
                  "index": 0,
                  "Unnamed: 0": 0,
                  "Date": 0,
                  "Open": 43.96875,
                  "High": 43.96875,
                  "Low": 43.75,
                  "Close": 43.9375,
                  "Adj Close": 25.122337,
                  "Volume": 1003200,
                  "candlestick_color": 0,
                  "Tomorrow_Open": 43.96875
                },
                {
                  "index": 1,
                  "Unnamed: 0": 1,
                  "Date": 3,
                  "Open": 43.96875,
                  "High": 44.25,
                  "Low": 43.96875,
                  "Close": 44.25,
                  "Adj Close": 25.301027,
                  "Volume": 480500,
                  "candlestick_color": 1,
                  "Tomorrow_Open": 44.21875
                },
                {
                  "index": 2,
                  "Unnamed: 0": 2,
                  "Date": 4,
                  "Open": 44.21875,
                  "High": 44.375,
                  "Low": 44.125,
                  "Close": 44.34375,
                  "Adj Close": 25.354624,
                  "Volume": 201300,
                  "candlestick_color": 1,
                  "Tomorrow_Open": 44.40625
                },
                {
                  "index": 3,
                  "Unnamed: 0": 3,
                  "Date": 5,
                  "Open": 44.40625,
                  "High": 44.84375,
                  "Low": 44.375,
                  "Close": 44.8125,
                  "Adj Close": 25.62265,
                  "Volume": 529400,
                  "candlestick_color": 1,
                  "Tomorrow_Open": 44.96875
                },
                {
                  "index": 4,
                  "Unnamed: 0": 4,
                  "Date": 6,
                  "Open": 44.96875,
                  "High": 45.09375,
                  "Low": 44.46875,
                  "Close": 45,
                  "Adj Close": 25.729849,
                  "Volume": 531500,
                  "candlestick_color": 1,
                  "Tomorrow_Open": 44.96875
                }
              ],
              "datalink": {
                "display_id": "ee9eafe5-0b0d-40b7-a360-986c4b0bedeb"
              }
            }
          },
          "metadata": {
            "application/vnd.dataresource+json": {
              "datalink": {
                "dataframe_info": {
                  "default_index_used": true,
                  "orig_size_bytes": 440,
                  "orig_num_rows": 5,
                  "orig_num_cols": 10,
                  "truncated_string_columns": [],
                  "truncated_size_bytes": 440,
                  "truncated_num_rows": 5,
                  "truncated_num_cols": 10
                },
                "dx_settings": {
                  "NUM_PAST_SAMPLES_TRACKED": 3,
                  "ENABLE_DATALINK": true,
                  "DISPLAY_MODE": "simple",
                  "GENERATE_DEX_METADATA": false,
                  "STRINGIFY_INDEX_VALUES": false,
                  "ALLOW_NOTEABLE_ATTRS": true,
                  "DISPLAY_MAX_COLUMNS": 100,
                  "HTML_TABLE_SCHEMA": false,
                  "SAMPLING_FACTOR": 0.1,
                  "LOG_LEVEL": 30,
                  "ENABLE_ASSIGNMENT": true,
                  "FLATTEN_INDEX_VALUES": false,
                  "DEV_MODE": false,
                  "COLUMN_SAMPLING_METHOD": "outer",
                  "FLATTEN_COLUMN_VALUES": true,
                  "DISPLAY_MAX_ROWS": 50000,
                  "ROW_SAMPLING_METHOD": "random",
                  "RANDOM_STATE": 12648430,
                  "DB_LOCATION": ":memory:",
                  "STRINGIFY_COLUMN_VALUES": true,
                  "SAMPLING_METHOD": "random",
                  "MAX_STRING_LENGTH": 250,
                  "MAX_RENDER_SIZE_BYTES": 104857600,
                  "RESET_INDEX_VALUES": false
                },
                "display_id": "ee9eafe5-0b0d-40b7-a360-986c4b0bedeb",
                "applied_filters": [],
                "sample_history": [],
                "sampling_time": "2023-07-31T11:55:35.011664",
                "variable_name": "unk_dataframe_da524371f3084d0087969672acfcd9e2",
                "user_variable_name": null
              },
              "display_id": "ee9eafe5-0b0d-40b7-a360-986c4b0bedeb"
            }
          }
        }
      ],
      "execution_count": null,
      "metadata": {
        "noteable": {
          "cell_type": "code"
        },
        "ExecuteTime": {
          "end_time": "2023-07-31T11:55:35.171663+00:00",
          "start_time": "2023-07-31T11:55:33.962928+00:00"
        },
        "datalink": {
          "681785d5-8029-4e88-bb98-78f0d77240d9": {
            "applied_filters": [],
            "dataframe_info": {
              "default_index_used": true,
              "orig_num_cols": 10,
              "orig_num_rows": 5,
              "orig_size_bytes": 440,
              "truncated_num_cols": 10,
              "truncated_num_rows": 5,
              "truncated_size_bytes": 440,
              "truncated_string_columns": []
            },
            "display_id": "681785d5-8029-4e88-bb98-78f0d77240d9",
            "dx_settings": {
              "ALLOW_NOTEABLE_ATTRS": true,
              "COLUMN_SAMPLING_METHOD": "outer",
              "DB_LOCATION": ":memory:",
              "DEV_MODE": false,
              "DISPLAY_MAX_COLUMNS": 100,
              "DISPLAY_MAX_ROWS": 50000,
              "DISPLAY_MODE": "simple",
              "ENABLE_ASSIGNMENT": true,
              "ENABLE_DATALINK": true,
              "FLATTEN_COLUMN_VALUES": true,
              "FLATTEN_INDEX_VALUES": false,
              "GENERATE_DEX_METADATA": false,
              "HTML_TABLE_SCHEMA": false,
              "LOG_LEVEL": 30,
              "MAX_RENDER_SIZE_BYTES": 104857600,
              "MAX_STRING_LENGTH": 250,
              "NUM_PAST_SAMPLES_TRACKED": 3,
              "RANDOM_STATE": 12648430,
              "RESET_INDEX_VALUES": false,
              "ROW_SAMPLING_METHOD": "random",
              "SAMPLING_FACTOR": 0.1,
              "SAMPLING_METHOD": "random",
              "STRINGIFY_COLUMN_VALUES": true,
              "STRINGIFY_INDEX_VALUES": false
            },
            "sample_history": [],
            "sampling_time": "2023-07-27T14:52:42.878742",
            "user_variable_name": null,
            "variable_name": "unk_dataframe_03eba26e69014a029df79fcfffd1b177"
          },
          "f7290334-8c53-44be-a0ff-71e0f1ffd482": {
            "applied_filters": [],
            "dataframe_info": {
              "default_index_used": true,
              "orig_num_cols": 10,
              "orig_num_rows": 5,
              "orig_size_bytes": 440,
              "truncated_num_cols": 10,
              "truncated_num_rows": 5,
              "truncated_size_bytes": 440,
              "truncated_string_columns": []
            },
            "display_id": "f7290334-8c53-44be-a0ff-71e0f1ffd482",
            "dx_settings": {
              "ALLOW_NOTEABLE_ATTRS": true,
              "COLUMN_SAMPLING_METHOD": "outer",
              "DB_LOCATION": ":memory:",
              "DEV_MODE": false,
              "DISPLAY_MAX_COLUMNS": 100,
              "DISPLAY_MAX_ROWS": 50000,
              "DISPLAY_MODE": "simple",
              "ENABLE_ASSIGNMENT": true,
              "ENABLE_DATALINK": true,
              "FLATTEN_COLUMN_VALUES": true,
              "FLATTEN_INDEX_VALUES": false,
              "GENERATE_DEX_METADATA": false,
              "HTML_TABLE_SCHEMA": false,
              "LOG_LEVEL": 30,
              "MAX_RENDER_SIZE_BYTES": 104857600,
              "MAX_STRING_LENGTH": 250,
              "NUM_PAST_SAMPLES_TRACKED": 3,
              "RANDOM_STATE": 12648430,
              "RESET_INDEX_VALUES": false,
              "ROW_SAMPLING_METHOD": "random",
              "SAMPLING_FACTOR": 0.1,
              "SAMPLING_METHOD": "random",
              "STRINGIFY_COLUMN_VALUES": true,
              "STRINGIFY_INDEX_VALUES": false
            },
            "sample_history": [],
            "sampling_time": "2023-07-27T15:16:34.791612",
            "user_variable_name": null,
            "variable_name": "unk_dataframe_af2feb760df24857962931e25704b58b"
          },
          "52ff2117-179d-469c-a4ce-cdc6df977945": {
            "applied_filters": [],
            "dataframe_info": {
              "default_index_used": true,
              "orig_num_cols": 10,
              "orig_num_rows": 5,
              "orig_size_bytes": 440,
              "truncated_num_cols": 10,
              "truncated_num_rows": 5,
              "truncated_size_bytes": 440,
              "truncated_string_columns": []
            },
            "display_id": "52ff2117-179d-469c-a4ce-cdc6df977945",
            "dx_settings": {
              "ALLOW_NOTEABLE_ATTRS": true,
              "COLUMN_SAMPLING_METHOD": "outer",
              "DB_LOCATION": ":memory:",
              "DEV_MODE": false,
              "DISPLAY_MAX_COLUMNS": 100,
              "DISPLAY_MAX_ROWS": 50000,
              "DISPLAY_MODE": "simple",
              "ENABLE_ASSIGNMENT": true,
              "ENABLE_DATALINK": true,
              "FLATTEN_COLUMN_VALUES": true,
              "FLATTEN_INDEX_VALUES": false,
              "GENERATE_DEX_METADATA": false,
              "HTML_TABLE_SCHEMA": false,
              "LOG_LEVEL": 30,
              "MAX_RENDER_SIZE_BYTES": 104857600,
              "MAX_STRING_LENGTH": 250,
              "NUM_PAST_SAMPLES_TRACKED": 3,
              "RANDOM_STATE": 12648430,
              "RESET_INDEX_VALUES": false,
              "ROW_SAMPLING_METHOD": "random",
              "SAMPLING_FACTOR": 0.1,
              "SAMPLING_METHOD": "random",
              "STRINGIFY_COLUMN_VALUES": true,
              "STRINGIFY_INDEX_VALUES": false
            },
            "sample_history": [],
            "sampling_time": "2023-07-27T16:42:20.666066",
            "user_variable_name": null,
            "variable_name": "unk_dataframe_a5f9c919a7614f3697d0a624e66f6703"
          },
          "a0e681b9-f9be-4bea-94c6-90d99d1422de": {
            "applied_filters": [],
            "dataframe_info": {
              "default_index_used": true,
              "orig_num_cols": 10,
              "orig_num_rows": 5,
              "orig_size_bytes": 440,
              "truncated_num_cols": 10,
              "truncated_num_rows": 5,
              "truncated_size_bytes": 440,
              "truncated_string_columns": []
            },
            "display_id": "a0e681b9-f9be-4bea-94c6-90d99d1422de",
            "dx_settings": {
              "ALLOW_NOTEABLE_ATTRS": true,
              "COLUMN_SAMPLING_METHOD": "outer",
              "DB_LOCATION": ":memory:",
              "DEV_MODE": false,
              "DISPLAY_MAX_COLUMNS": 100,
              "DISPLAY_MAX_ROWS": 50000,
              "DISPLAY_MODE": "simple",
              "ENABLE_ASSIGNMENT": true,
              "ENABLE_DATALINK": true,
              "FLATTEN_COLUMN_VALUES": true,
              "FLATTEN_INDEX_VALUES": false,
              "GENERATE_DEX_METADATA": false,
              "HTML_TABLE_SCHEMA": false,
              "LOG_LEVEL": 30,
              "MAX_RENDER_SIZE_BYTES": 104857600,
              "MAX_STRING_LENGTH": 250,
              "NUM_PAST_SAMPLES_TRACKED": 3,
              "RANDOM_STATE": 12648430,
              "RESET_INDEX_VALUES": false,
              "ROW_SAMPLING_METHOD": "random",
              "SAMPLING_FACTOR": 0.1,
              "SAMPLING_METHOD": "random",
              "STRINGIFY_COLUMN_VALUES": true,
              "STRINGIFY_INDEX_VALUES": false
            },
            "sample_history": [],
            "sampling_time": "2023-07-28T18:27:37.858243",
            "user_variable_name": null,
            "variable_name": "unk_dataframe_cc4a5f2e4df146af9b4008dc6440ee0d"
          },
          "ee9eafe5-0b0d-40b7-a360-986c4b0bedeb": {
            "applied_filters": [],
            "dataframe_info": {
              "default_index_used": true,
              "orig_num_cols": 10,
              "orig_num_rows": 5,
              "orig_size_bytes": 440,
              "truncated_num_cols": 10,
              "truncated_num_rows": 5,
              "truncated_size_bytes": 440,
              "truncated_string_columns": []
            },
            "display_id": "ee9eafe5-0b0d-40b7-a360-986c4b0bedeb",
            "dx_settings": {
              "ALLOW_NOTEABLE_ATTRS": true,
              "COLUMN_SAMPLING_METHOD": "outer",
              "DB_LOCATION": ":memory:",
              "DEV_MODE": false,
              "DISPLAY_MAX_COLUMNS": 100,
              "DISPLAY_MAX_ROWS": 50000,
              "DISPLAY_MODE": "simple",
              "ENABLE_ASSIGNMENT": true,
              "ENABLE_DATALINK": true,
              "FLATTEN_COLUMN_VALUES": true,
              "FLATTEN_INDEX_VALUES": false,
              "GENERATE_DEX_METADATA": false,
              "HTML_TABLE_SCHEMA": false,
              "LOG_LEVEL": 30,
              "MAX_RENDER_SIZE_BYTES": 104857600,
              "MAX_STRING_LENGTH": 250,
              "NUM_PAST_SAMPLES_TRACKED": 3,
              "RANDOM_STATE": 12648430,
              "RESET_INDEX_VALUES": false,
              "ROW_SAMPLING_METHOD": "random",
              "SAMPLING_FACTOR": 0.1,
              "SAMPLING_METHOD": "random",
              "STRINGIFY_COLUMN_VALUES": true,
              "STRINGIFY_INDEX_VALUES": false
            },
            "sample_history": [],
            "sampling_time": "2023-07-31T11:55:35.011664",
            "user_variable_name": null,
            "variable_name": "unk_dataframe_da524371f3084d0087969672acfcd9e2"
          }
        }
      },
      "id": "07440c1f-6ac1-483d-81ca-d632f4441a65"
    },
    {
      "cell_type": "markdown",
      "source": [
        "## Data Preprocessing\n",
        "\n",
        "Before applying PCA, we need to preprocess our data. This includes removing non-numeric columns and handling missing values. We will also standardize our data. Standardization is a common requirement for machine learning estimators: they might behave badly if the individual features do not more or less look like standard normally distributed data (e.g. Gaussian with 0 mean and unit variance)."
      ],
      "metadata": {
        "noteable": {
          "cell_type": "markdown"
        }
      },
      "id": "bea4874c-281e-4fc7-bb51-d781e90619b7"
    },
    {
      "cell_type": "code",
      "source": [
        "from sklearn.preprocessing import StandardScaler\n",
        "\n",
        "# Drop non-numeric columns\n",
        "df_numeric = df.drop(columns=['candlestick_color'])\n",
        "\n",
        "# Handle missing values\n",
        "df_numeric = df_numeric.dropna()\n",
        "\n",
        "# Standardize the data\n",
        "scaler = StandardScaler()\n",
        "df_standardized = pd.DataFrame(scaler.fit_transform(df_numeric), columns=df_numeric.columns)\n",
        "\n",
        "df_standardized.head()"
      ],
      "outputs": [
        {
          "output_type": "display_data",
          "data": {
            "application/vnd.dataresource+json": {
              "schema": {
                "fields": [
                  {
                    "name": "index",
                    "type": "integer"
                  },
                  {
                    "name": "index",
                    "type": "number"
                  },
                  {
                    "name": "Date",
                    "type": "number"
                  },
                  {
                    "name": "Open",
                    "type": "number"
                  },
                  {
                    "name": "High",
                    "type": "number"
                  },
                  {
                    "name": "Low",
                    "type": "number"
                  },
                  {
                    "name": "Close",
                    "type": "number"
                  },
                  {
                    "name": "Adj Close",
                    "type": "number"
                  },
                  {
                    "name": "Volume",
                    "type": "number"
                  },
                  {
                    "name": "Tomorrow_Open",
                    "type": "number"
                  }
                ],
                "primaryKey": [
                  "index"
                ],
                "pandas_version": "1.4.0"
              },
              "data": [
                {
                  "level_0": 0,
                  "index": -1.7318242920630937,
                  "Date": 0,
                  "Open": -1.2039845375854,
                  "High": -1.2071804021668302,
                  "Low": -1.2024407203315106,
                  "Close": -1.204093228643775,
                  "Adj Close": -1.0561076550793485,
                  "Volume": -0.8973790709223919,
                  "Tomorrow_Open": -1.2040553233498763
                },
                {
                  "level_0": 1,
                  "index": -1.7313712314242282,
                  "Date": 0,
                  "Open": -1.2039845375854,
                  "High": -1.2044082103071934,
                  "Low": -1.2002593365200875,
                  "Close": -1.200996467862025,
                  "Adj Close": -1.054437560181797,
                  "Volume": -0.9029915999678777,
                  "Tomorrow_Open": -1.2015782617038695
                },
                {
                  "level_0": 2,
                  "index": -1.730918170785363,
                  "Date": 0,
                  "Open": -1.2015065896005677,
                  "High": -1.2031761250362438,
                  "Low": -1.1987012052262138,
                  "Close": -1.2000674396275002,
                  "Adj Close": -1.0539366251757862,
                  "Volume": -0.9059895301563217,
                  "Tomorrow_Open": -1.1997204654693645
                },
                {
                  "level_0": 3,
                  "index": -1.7304651101464974,
                  "Date": 0,
                  "Open": -1.1996481286119436,
                  "High": -1.1985558052701826,
                  "Low": -1.196208195156016,
                  "Close": -1.1954222984548752,
                  "Adj Close": -1.051431566946388,
                  "Volume": -0.9024665326820077,
                  "Tomorrow_Open": -1.194147076765849
                },
                {
                  "level_0": 4,
                  "index": -1.730012049507632,
                  "Date": 0,
                  "Open": -1.1940727456460711,
                  "High": -1.1960916347282833,
                  "Low": -1.1952733163796918,
                  "Close": -1.1935642419858252,
                  "Adj Close": -1.050429650202739,
                  "Volume": -0.9024439837801606,
                  "Tomorrow_Open": -1.194147076765849
                }
              ],
              "datalink": {
                "display_id": "e97ecbed-0325-4f29-964a-633584a07400"
              }
            }
          },
          "metadata": {
            "application/vnd.dataresource+json": {
              "datalink": {
                "dataframe_info": {
                  "default_index_used": true,
                  "orig_size_bytes": 400,
                  "orig_num_rows": 5,
                  "orig_num_cols": 9,
                  "truncated_string_columns": [],
                  "truncated_size_bytes": 400,
                  "truncated_num_rows": 5,
                  "truncated_num_cols": 9
                },
                "dx_settings": {
                  "NUM_PAST_SAMPLES_TRACKED": 3,
                  "ENABLE_DATALINK": true,
                  "DISPLAY_MODE": "simple",
                  "GENERATE_DEX_METADATA": false,
                  "STRINGIFY_INDEX_VALUES": false,
                  "ALLOW_NOTEABLE_ATTRS": true,
                  "DISPLAY_MAX_COLUMNS": 100,
                  "HTML_TABLE_SCHEMA": false,
                  "SAMPLING_FACTOR": 0.1,
                  "LOG_LEVEL": 30,
                  "ENABLE_ASSIGNMENT": true,
                  "FLATTEN_INDEX_VALUES": false,
                  "DEV_MODE": false,
                  "COLUMN_SAMPLING_METHOD": "outer",
                  "FLATTEN_COLUMN_VALUES": true,
                  "DISPLAY_MAX_ROWS": 50000,
                  "ROW_SAMPLING_METHOD": "random",
                  "RANDOM_STATE": 12648430,
                  "DB_LOCATION": ":memory:",
                  "STRINGIFY_COLUMN_VALUES": true,
                  "SAMPLING_METHOD": "random",
                  "MAX_STRING_LENGTH": 250,
                  "MAX_RENDER_SIZE_BYTES": 104857600,
                  "RESET_INDEX_VALUES": false
                },
                "display_id": "e97ecbed-0325-4f29-964a-633584a07400",
                "applied_filters": [],
                "sample_history": [],
                "sampling_time": "2023-07-27T14:54:12.666084",
                "variable_name": "unk_dataframe_8adcde11d4fb4b0587659b6422043848",
                "user_variable_name": null
              },
              "display_id": "e97ecbed-0325-4f29-964a-633584a07400"
            }
          }
        }
      ],
      "execution_count": null,
      "metadata": {
        "noteable": {
          "cell_type": "code"
        },
        "ExecuteTime": {
          "end_time": "2023-07-27T14:54:12.823813+00:00",
          "start_time": "2023-07-27T14:54:12.607131+00:00"
        },
        "datalink": {
          "e97ecbed-0325-4f29-964a-633584a07400": {
            "applied_filters": [],
            "dataframe_info": {
              "default_index_used": true,
              "orig_num_cols": 9,
              "orig_num_rows": 5,
              "orig_size_bytes": 400,
              "truncated_num_cols": 9,
              "truncated_num_rows": 5,
              "truncated_size_bytes": 400,
              "truncated_string_columns": []
            },
            "display_id": "e97ecbed-0325-4f29-964a-633584a07400",
            "dx_settings": {
              "ALLOW_NOTEABLE_ATTRS": true,
              "COLUMN_SAMPLING_METHOD": "outer",
              "DB_LOCATION": ":memory:",
              "DEV_MODE": false,
              "DISPLAY_MAX_COLUMNS": 100,
              "DISPLAY_MAX_ROWS": 50000,
              "DISPLAY_MODE": "simple",
              "ENABLE_ASSIGNMENT": true,
              "ENABLE_DATALINK": true,
              "FLATTEN_COLUMN_VALUES": true,
              "FLATTEN_INDEX_VALUES": false,
              "GENERATE_DEX_METADATA": false,
              "HTML_TABLE_SCHEMA": false,
              "LOG_LEVEL": 30,
              "MAX_RENDER_SIZE_BYTES": 104857600,
              "MAX_STRING_LENGTH": 250,
              "NUM_PAST_SAMPLES_TRACKED": 3,
              "RANDOM_STATE": 12648430,
              "RESET_INDEX_VALUES": false,
              "ROW_SAMPLING_METHOD": "random",
              "SAMPLING_FACTOR": 0.1,
              "SAMPLING_METHOD": "random",
              "STRINGIFY_COLUMN_VALUES": true,
              "STRINGIFY_INDEX_VALUES": false
            },
            "sample_history": [],
            "sampling_time": "2023-07-27T14:54:12.666084",
            "user_variable_name": null,
            "variable_name": "unk_dataframe_8adcde11d4fb4b0587659b6422043848"
          }
        }
      },
      "id": "fc969bfc-bd0e-48bc-8dee-73bb3b8c4215"
    },
    {
      "cell_type": "markdown",
      "source": [
        "## Principal Component Analysis (PCA)\n",
        "\n",
        "Now that our data is preprocessed, we can apply PCA. We will use the PCA implementation from the sklearn library. The number of principal components to keep is a hyperparameter that we can tune. For simplicity, we will keep 2 principal components."
      ],
      "metadata": {
        "noteable": {
          "cell_type": "markdown"
        }
      },
      "id": "43363080-8927-4bee-8004-d1bfc6cd8d1c"
    },
    {
      "cell_type": "code",
      "source": [
        "# Apply PCA\n",
        "pca = PCA(n_components=2)\n",
        "principalComponents = pca.fit_transform(df_standardized)\n",
        "\n",
        "# Create a DataFrame with the principal components\n",
        "df_pca = pd.DataFrame(data = principalComponents, columns = ['principal component 1', 'principal component 2'])\n",
        "df_pca['candlestick_color'] = df['candlestick_color']\n",
        "df_pca.head()"
      ],
      "outputs": [
        {
          "output_type": "display_data",
          "data": {
            "application/vnd.dataresource+json": {
              "schema": {
                "fields": [
                  {
                    "name": "index",
                    "type": "integer"
                  },
                  {
                    "name": "principal component 1",
                    "type": "number"
                  },
                  {
                    "name": "principal component 2",
                    "type": "number"
                  },
                  {
                    "name": "candlestick_color",
                    "type": "string"
                  }
                ],
                "primaryKey": [
                  "index"
                ],
                "pandas_version": "1.4.0"
              },
              "data": [
                {
                  "index": 0,
                  "principal component 1": -3.3619576087403655,
                  "principal component 2": -0.8516538230169072,
                  "candlestick_color": "red"
                },
                {
                  "index": 1,
                  "principal component 1": -3.3575016476745887,
                  "principal component 2": -0.8576595820613133,
                  "candlestick_color": "green"
                },
                {
                  "index": 2,
                  "principal component 1": -3.3542684419446123,
                  "principal component 2": -0.8609601961937128,
                  "candlestick_color": "green"
                },
                {
                  "index": 3,
                  "principal component 1": -3.3455948289712607,
                  "principal component 2": -0.8590819145556381,
                  "candlestick_color": "green"
                },
                {
                  "index": 4,
                  "principal component 1": -3.340914353668263,
                  "principal component 2": -0.8597775028167948,
                  "candlestick_color": "green"
                }
              ],
              "datalink": {
                "display_id": "2140fad8-f820-4853-9cba-47a5ca92175a"
              }
            }
          },
          "metadata": {
            "application/vnd.dataresource+json": {
              "datalink": {
                "dataframe_info": {
                  "default_index_used": true,
                  "orig_size_bytes": 160,
                  "orig_num_rows": 5,
                  "orig_num_cols": 3,
                  "truncated_string_columns": [],
                  "truncated_size_bytes": 160,
                  "truncated_num_rows": 5,
                  "truncated_num_cols": 3
                },
                "dx_settings": {
                  "NUM_PAST_SAMPLES_TRACKED": 3,
                  "ENABLE_DATALINK": true,
                  "DISPLAY_MODE": "simple",
                  "GENERATE_DEX_METADATA": false,
                  "STRINGIFY_INDEX_VALUES": false,
                  "ALLOW_NOTEABLE_ATTRS": true,
                  "DISPLAY_MAX_COLUMNS": 100,
                  "HTML_TABLE_SCHEMA": false,
                  "SAMPLING_FACTOR": 0.1,
                  "LOG_LEVEL": 30,
                  "ENABLE_ASSIGNMENT": true,
                  "FLATTEN_INDEX_VALUES": false,
                  "DEV_MODE": false,
                  "COLUMN_SAMPLING_METHOD": "outer",
                  "FLATTEN_COLUMN_VALUES": true,
                  "DISPLAY_MAX_ROWS": 50000,
                  "ROW_SAMPLING_METHOD": "random",
                  "RANDOM_STATE": 12648430,
                  "DB_LOCATION": ":memory:",
                  "STRINGIFY_COLUMN_VALUES": true,
                  "SAMPLING_METHOD": "random",
                  "MAX_STRING_LENGTH": 250,
                  "MAX_RENDER_SIZE_BYTES": 104857600,
                  "RESET_INDEX_VALUES": false
                },
                "display_id": "2140fad8-f820-4853-9cba-47a5ca92175a",
                "applied_filters": [],
                "sample_history": [],
                "sampling_time": "2023-07-27T14:55:29.900457",
                "variable_name": "unk_dataframe_1acda0b3ba3d4d52a29dbc662179ea8a",
                "user_variable_name": null
              },
              "display_id": "2140fad8-f820-4853-9cba-47a5ca92175a"
            }
          }
        }
      ],
      "execution_count": null,
      "metadata": {
        "noteable": {
          "cell_type": "code"
        },
        "ExecuteTime": {
          "end_time": "2023-07-27T14:55:30.058190+00:00",
          "start_time": "2023-07-27T14:55:28.983225+00:00"
        },
        "datalink": {
          "2140fad8-f820-4853-9cba-47a5ca92175a": {
            "applied_filters": [],
            "dataframe_info": {
              "default_index_used": true,
              "orig_num_cols": 3,
              "orig_num_rows": 5,
              "orig_size_bytes": 160,
              "truncated_num_cols": 3,
              "truncated_num_rows": 5,
              "truncated_size_bytes": 160,
              "truncated_string_columns": []
            },
            "display_id": "2140fad8-f820-4853-9cba-47a5ca92175a",
            "dx_settings": {
              "ALLOW_NOTEABLE_ATTRS": true,
              "COLUMN_SAMPLING_METHOD": "outer",
              "DB_LOCATION": ":memory:",
              "DEV_MODE": false,
              "DISPLAY_MAX_COLUMNS": 100,
              "DISPLAY_MAX_ROWS": 50000,
              "DISPLAY_MODE": "simple",
              "ENABLE_ASSIGNMENT": true,
              "ENABLE_DATALINK": true,
              "FLATTEN_COLUMN_VALUES": true,
              "FLATTEN_INDEX_VALUES": false,
              "GENERATE_DEX_METADATA": false,
              "HTML_TABLE_SCHEMA": false,
              "LOG_LEVEL": 30,
              "MAX_RENDER_SIZE_BYTES": 104857600,
              "MAX_STRING_LENGTH": 250,
              "NUM_PAST_SAMPLES_TRACKED": 3,
              "RANDOM_STATE": 12648430,
              "RESET_INDEX_VALUES": false,
              "ROW_SAMPLING_METHOD": "random",
              "SAMPLING_FACTOR": 0.1,
              "SAMPLING_METHOD": "random",
              "STRINGIFY_COLUMN_VALUES": true,
              "STRINGIFY_INDEX_VALUES": false
            },
            "sample_history": [],
            "sampling_time": "2023-07-27T14:55:29.900457",
            "user_variable_name": null,
            "variable_name": "unk_dataframe_1acda0b3ba3d4d52a29dbc662179ea8a"
          }
        }
      },
      "id": "71ef1e60-07ba-4e75-9961-63bd8e365050"
    },
    {
      "cell_type": "markdown",
      "source": [
        "## Visualizing the Principal Components\n",
        "\n",
        "To get a better understanding of what our PCA transformation has done, we can visualize the data in the space of the first two principal components. We will color the points according to the `candlestick_color` feature."
      ],
      "metadata": {
        "noteable": {
          "cell_type": "markdown"
        }
      },
      "id": "1ebd0771-fd8f-434e-a8a0-991cd62af227"
    },
    {
      "cell_type": "code",
      "source": [
        "# Visualize the principal components\n",
        "plt.figure(figsize=(10,10))\n",
        "sns.scatterplot(x='principal component 1', y='principal component 2', hue='candlestick_color', data=df_pca)\n",
        "plt.title('Principal Component Analysis (PCA) of SPY daily price data')\n",
        "plt.show()"
      ],
      "outputs": [
        {
          "output_type": "display_data",
          "data": {
            "image/png": "[encoded data removed]"
          },
          "metadata": {}
        }
      ],
      "execution_count": null,
      "metadata": {
        "noteable": {
          "cell_type": "code"
        },
        "ExecuteTime": {
          "end_time": "2023-07-27T14:56:48.051442+00:00",
          "start_time": "2023-07-27T14:56:47.155475+00:00"
        }
      },
      "id": "e319c872-a030-4c00-b1ca-8ea6a5e07037"
    },
    {
      "cell_type": "markdown",
      "source": [
        "## Training a Random Forest Classifier with PCA Features\n",
        "\n",
        "Now that we have our PCA features, we can train a Random Forest Classifier using these features. We will use the `candlestick_color` feature as our target variable."
      ],
      "metadata": {
        "noteable": {
          "cell_type": "markdown"
        }
      },
      "id": "abd71513-015b-413c-835b-a2edb9df10a0"
    },
    {
      "cell_type": "code",
      "source": [
        "# Split the data into training and test sets\n",
        "X = df_pca[['principal component 1', 'principal component 2']]\n",
        "y = df_pca['candlestick_color']\n",
        "X_train, X_test, y_train, y_test = train_test_split(X, y, test_size=0.2, random_state=42)\n",
        "\n",
        "# Train a Random Forest Classifier\n",
        "clf = RandomForestClassifier(n_estimators=100, random_state=42)\n",
        "clf.fit(X_train, y_train)\n",
        "\n",
        "# Predict the test set results\n",
        "y_pred = clf.predict(X_test)\n",
        "\n",
        "# Print the classification report\n",
        "print(classification_report(y_test, y_pred))"
      ],
      "outputs": [
        {
          "output_type": "stream",
          "name": "stdout",
          "text": [
            "              precision    recall  f1-score   support\n",
            "\n",
            "       green       0.56      0.57      0.56       823\n",
            "         red       0.49      0.47      0.48       707\n",
            "\n",
            "    accuracy                           0.53      1530\n",
            "   macro avg       0.52      0.52      0.52      1530\n",
            "weighted avg       0.52      0.53      0.52      1530\n",
            "\n"
          ]
        }
      ],
      "execution_count": null,
      "metadata": {
        "noteable": {
          "cell_type": "code"
        },
        "ExecuteTime": {
          "end_time": "2023-07-27T14:58:16.283213+00:00",
          "start_time": "2023-07-27T14:58:14.684668+00:00"
        }
      },
      "id": "753aa419-e47b-41cb-8b91-b602b2bf53d4"
    },
    {
      "cell_type": "markdown",
      "source": [
        "## Confusion Matrix\n",
        "\n",
        "A confusion matrix is a table that is often used to describe the performance of a classification model (or \"classifier\") on a set of test data for which the true values are known. It allows the visualization of the performance of an algorithm."
      ],
      "metadata": {
        "noteable": {
          "cell_type": "markdown"
        }
      },
      "id": "b5a0d101-a3c4-4403-83b4-374a318a9216"
    },
    {
      "cell_type": "code",
      "source": [
        "# Print the confusion matrix\n",
        "cm = confusion_matrix(y_test, y_pred)\n",
        "sns.heatmap(cm, annot=True, fmt='d', cmap='Blues')\n",
        "plt.xlabel('Predicted')\n",
        "plt.ylabel('True')\n",
        "plt.show()"
      ],
      "outputs": [
        {
          "output_type": "display_data",
          "data": {
            "image/png": "[encoded data removed]"
          },
          "metadata": {}
        }
      ],
      "execution_count": null,
      "metadata": {
        "noteable": {
          "cell_type": "code"
        },
        "ExecuteTime": {
          "end_time": "2023-07-27T15:14:47.952419+00:00",
          "start_time": "2023-07-27T15:14:47.488198+00:00"
        }
      },
      "id": "cd99d669-ccd2-48f2-bbd4-152bf7bcdd1a"
    },
    {
      "cell_type": "markdown",
      "source": [
        "## Comparing the PCA Model with the Original Model\n",
        "\n",
        "Now that we have trained a new model using PCA features, we can compare its performance with the original model. We will compare the accuracy, precision, recall, and F1-score of the two models."
      ],
      "metadata": {
        "noteable": {
          "cell_type": "markdown"
        }
      },
      "id": "6c9c62b4-9899-4cc5-9c01-3e9e626fb1c4"
    },
    {
      "cell_type": "code",
      "source": [
        "# Load the results of the original model\n",
        "original_model_results = pd.read_csv('original_model_results.csv')\n",
        "print(original_model_results)\n",
        "# Calculate the metrics for the original model\n",
        "original_accuracy = original_model_results['accuracy'].mean()\n",
        "original_precision = original_model_results['precision'].mean()\n",
        "original_recall = original_model_results['recall'].mean()\n",
        "original_f1 = original_model_results['f1-score'].mean()\n",
        "\n",
        "# Calculate the metrics for the PCA model\n",
        "pca_accuracy = (y_pred == y_test).mean()\n",
        "pca_precision = precision_score(y_test, y_pred, average='weighted')\n",
        "pca_recall = recall_score(y_test, y_pred, average='weighted')\n",
        "pca_f1 = f1_score(y_test, y_pred, average='weighted')\n",
        "\n",
        "# Compare the metrics\n",
        "metrics_comparison = pd.DataFrame({\n",
        "    'Model': ['Original', 'PCA'],\n",
        "    'Accuracy': [original_accuracy, pca_accuracy],\n",
        "    'Precision': [original_precision, pca_precision],\n",
        "    'Recall': [original_recall, pca_recall],\n",
        "    'F1-score': [original_f1, pca_f1]\n",
        "})\n",
        "\n",
        "metrics_comparison"
      ],
      "outputs": [
        {
          "output_type": "stream",
          "name": "stdout",
          "text": [
            "   accuracy  precision    recall  f1-score\n",
            "0  0.766667   0.777381  0.793439  0.785328\n"
          ]
        },
        {
          "output_type": "display_data",
          "data": {
            "application/vnd.dataresource+json": {
              "schema": {
                "fields": [
                  {
                    "name": "index",
                    "type": "integer"
                  },
                  {
                    "name": "Model",
                    "type": "string"
                  },
                  {
                    "name": "Accuracy",
                    "type": "number"
                  },
                  {
                    "name": "Precision",
                    "type": "number"
                  },
                  {
                    "name": "Recall",
                    "type": "number"
                  },
                  {
                    "name": "F1-score",
                    "type": "number"
                  }
                ],
                "primaryKey": [
                  "index"
                ],
                "pandas_version": "1.4.0"
              },
              "data": [
                {
                  "index": 0,
                  "Model": "Original",
                  "Accuracy": 0.7666666666666667,
                  "Precision": 0.7773809523809524,
                  "Recall": 0.7934386391251519,
                  "F1-score": 0.7853277209861695
                },
                {
                  "index": 1,
                  "Model": "PCA",
                  "Accuracy": 0.5254901960784314,
                  "Precision": 0.5245573743750506,
                  "Recall": 0.5254901960784314,
                  "F1-score": 0.524934450107159
                }
              ],
              "datalink": {
                "display_id": "5dde3f81-b304-4ba8-8d55-09ed09a40693"
              }
            }
          },
          "metadata": {
            "application/vnd.dataresource+json": {
              "datalink": {
                "dataframe_info": {
                  "default_index_used": true,
                  "orig_size_bytes": 96,
                  "orig_num_rows": 2,
                  "orig_num_cols": 5,
                  "truncated_string_columns": [],
                  "truncated_size_bytes": 96,
                  "truncated_num_rows": 2,
                  "truncated_num_cols": 5
                },
                "dx_settings": {
                  "NUM_PAST_SAMPLES_TRACKED": 3,
                  "ENABLE_DATALINK": true,
                  "DISPLAY_MODE": "simple",
                  "GENERATE_DEX_METADATA": false,
                  "STRINGIFY_INDEX_VALUES": false,
                  "ALLOW_NOTEABLE_ATTRS": true,
                  "DISPLAY_MAX_COLUMNS": 100,
                  "HTML_TABLE_SCHEMA": false,
                  "SAMPLING_FACTOR": 0.1,
                  "LOG_LEVEL": 30,
                  "ENABLE_ASSIGNMENT": true,
                  "FLATTEN_INDEX_VALUES": false,
                  "DEV_MODE": false,
                  "COLUMN_SAMPLING_METHOD": "outer",
                  "FLATTEN_COLUMN_VALUES": true,
                  "DISPLAY_MAX_ROWS": 50000,
                  "ROW_SAMPLING_METHOD": "random",
                  "RANDOM_STATE": 12648430,
                  "DB_LOCATION": ":memory:",
                  "STRINGIFY_COLUMN_VALUES": true,
                  "SAMPLING_METHOD": "random",
                  "MAX_STRING_LENGTH": 250,
                  "MAX_RENDER_SIZE_BYTES": 104857600,
                  "RESET_INDEX_VALUES": false
                },
                "display_id": "5dde3f81-b304-4ba8-8d55-09ed09a40693",
                "applied_filters": [],
                "sample_history": [],
                "sampling_time": "2023-07-27T15:16:39.791515",
                "variable_name": "metrics_comparison",
                "user_variable_name": "metrics_comparison"
              },
              "display_id": "5dde3f81-b304-4ba8-8d55-09ed09a40693"
            }
          }
        }
      ],
      "execution_count": null,
      "metadata": {
        "noteable": {
          "cell_type": "code"
        },
        "ExecuteTime": {
          "end_time": "2023-07-27T15:16:39.949022+00:00",
          "start_time": "2023-07-27T15:16:39.685866+00:00"
        },
        "datalink": {
          "5dde3f81-b304-4ba8-8d55-09ed09a40693": {
            "applied_filters": [],
            "dataframe_info": {
              "default_index_used": true,
              "orig_num_cols": 5,
              "orig_num_rows": 2,
              "orig_size_bytes": 96,
              "truncated_num_cols": 5,
              "truncated_num_rows": 2,
              "truncated_size_bytes": 96,
              "truncated_string_columns": []
            },
            "display_id": "5dde3f81-b304-4ba8-8d55-09ed09a40693",
            "dx_settings": {
              "ALLOW_NOTEABLE_ATTRS": true,
              "COLUMN_SAMPLING_METHOD": "outer",
              "DB_LOCATION": ":memory:",
              "DEV_MODE": false,
              "DISPLAY_MAX_COLUMNS": 100,
              "DISPLAY_MAX_ROWS": 50000,
              "DISPLAY_MODE": "simple",
              "ENABLE_ASSIGNMENT": true,
              "ENABLE_DATALINK": true,
              "FLATTEN_COLUMN_VALUES": true,
              "FLATTEN_INDEX_VALUES": false,
              "GENERATE_DEX_METADATA": false,
              "HTML_TABLE_SCHEMA": false,
              "LOG_LEVEL": 30,
              "MAX_RENDER_SIZE_BYTES": 104857600,
              "MAX_STRING_LENGTH": 250,
              "NUM_PAST_SAMPLES_TRACKED": 3,
              "RANDOM_STATE": 12648430,
              "RESET_INDEX_VALUES": false,
              "ROW_SAMPLING_METHOD": "random",
              "SAMPLING_FACTOR": 0.1,
              "SAMPLING_METHOD": "random",
              "STRINGIFY_COLUMN_VALUES": true,
              "STRINGIFY_INDEX_VALUES": false
            },
            "sample_history": [],
            "sampling_time": "2023-07-27T15:16:39.791515",
            "user_variable_name": "metrics_comparison",
            "variable_name": "metrics_comparison"
          }
        }
      },
      "id": "e8ca9916-e35f-40fd-8099-f637132ae5f0"
    },
    {
      "cell_type": "markdown",
      "source": [
        "## Conclusion For PCA\n",
        "\n",
        "In this notebook, we applied Principal Component Analysis (PCA) as a feature engineering technique to our SPY daily price data, and trained a Random Forest Classifier using these PCA features. We evaluated the performance of our model using a classification report and a confusion matrix.\n",
        "\n",
        "The classification report shows the precision, recall, f1-score, and support for each class. The confusion matrix provides a visual representation of the performance of our classifier.\n",
        "\n",
        "Comparing the performance of this model with the original model (without PCA), we can see that the accuracy of our model has decreased, perhaps due to lack of enough data or dimensions."
      ],
      "metadata": {
        "noteable": {
          "cell_type": "markdown"
        }
      },
      "id": "59134a32-3718-430a-b28d-58047140ab73"
    },
    {
      "cell_type": "markdown",
      "source": [],
      "metadata": {
        "noteable": {
          "cell_type": "markdown"
        }
      },
      "id": "902fed20-c3b5-4a99-9085-401028ab2c3d"
    },
    {
      "cell_type": "markdown",
      "source": [
        "# Feature Engineering using ODE"
      ],
      "metadata": {
        "noteable": {
          "cell_type": "markdown"
        }
      },
      "id": "a953dbf0-373e-47c9-9696-479ec319ad3f"
    },
    {
      "cell_type": "markdown",
      "source": [
        "In the initial model, a Random Forest classifier is used to predict the color of a candlestick in a stock price chart. The features used for prediction are derived from the 'SPY_daily.csv' dataset, which includes various stock price indicators.\n",
        "\n",
        "Let's consider a scenario where we want to introduce a new feature derived from an Ordinary Differential Equation (ODE). One common application of ODEs in finance is in the modeling of asset prices. For instance, the geometric Brownian motion model, which is a solution to a stochastic differential equation, is often used to model stock prices.\n",
        "\n",
        "In this case, we could introduce a feature that represents the rate of change of the stock price, which is essentially the first derivative of the price with respect to time. This could potentially capture some of the momentum in the price movement, which might be predictive of future price direction.\n",
        "\n",
        "\n",
        "To implement this, we would first need to calculate the rate of change of the stock price. This could be done by applying a finite difference method to the price data, which is a numerical method for approximating derivatives. The simplest finite difference method is the forward difference method, which approximates the derivative as follows:\n",
        "\n",
        "$$f'(x) \\approx \\frac{f(x+h) - f(x)}{h}$$\n",
        "\n",
        "where $h$ is a small increment in $x$. In the context of stock prices, $x$ would represent time, and $h$ would typically be one trading day.\n",
        "\n",
        "Once we have calculated the rate of change of the stock price, we could add this as a new feature to our feature matrix $X$. We would then need to retrain our Random Forest classifier on the updated feature matrix and evaluate its performance.\n",
        "\n",
        "It's worth noting that the usefulness of this new feature would ultimately need to be determined empirically, by evaluating whether it improves the performance of the model."
      ],
      "metadata": {
        "noteable": {
          "cell_type": "markdown"
        }
      },
      "id": "5fc7b190-cd68-4849-bf9c-17d91af5ea9e"
    },
    {
      "cell_type": "code",
      "source": [
        "# Load the data\n",
        "data = pd.read_csv('SPY_pre_train.csv')\n",
        "\n",
        "# Calculate the log returns\n",
        "data['LogReturn'] = np.log(data['Close']).diff()\n",
        "\n",
        "# Calculate the mean and standard deviation of the log returns\n",
        "mu = data['LogReturn'].mean()\n",
        "sigma = data['LogReturn'].std()\n",
        "\n",
        "# Set the initial price and number of time steps\n",
        "S0 = data['Close'].iloc[0]\n",
        "T = len(data)\n",
        "\n",
        "# Set the random seed for reproducibility\n",
        "np.random.seed(42)\n",
        "\n",
        "# Generate the Wiener process\n",
        "W = np.random.standard_normal(size = T)\n",
        "W = np.cumsum(W)*np.sqrt(1/252) # scale by sqrt(dt)\n",
        "\n",
        "# Calculate the price series\n",
        "S = S0*np.exp((mu-0.5*sigma**2)*(np.arange(T)/252) + sigma*W)\n",
        "\n",
        "# Add the simulated price series as a new feature\n",
        "data['SimulatedPrice'] = S\n",
        "\n",
        "# Drop the first row (because the log return is not defined for the first row)\n",
        "data = data.dropna()\n",
        "\n",
        "# Define the features and target\n",
        "X = data.drop(['Date', 'candlestick_color'], axis=1)\n",
        "y = data['candlestick_color']\n",
        "\n",
        "# Split the data into training and test sets\n",
        "X_train, X_test, y_train, y_test = train_test_split(X, y, test_size=0.2, random_state=42)\n",
        "\n",
        "# Train the Random Forest model\n",
        "model = RandomForestClassifier(n_estimators=100, random_state=42)\n",
        "model.fit(X_train, y_train)\n",
        "\n",
        "# Make predictions\n",
        "y_pred = model.predict(X_test)\n"
      ],
      "outputs": [
        {
          "output_type": "stream",
          "name": "stdout",
          "text": [
            "0.8181818181818182\n"
          ]
        }
      ],
      "execution_count": null,
      "metadata": {
        "noteable": {
          "cell_type": "python"
        },
        "ExecuteTime": {
          "end_time": "2023-07-27T15:31:54.879073+00:00",
          "start_time": "2023-07-27T15:31:52.284608+00:00"
        }
      },
      "id": "b5a52d13-816e-4809-906e-65af8ef7d42a"
    },
    {
      "cell_type": "code",
      "source": [
        "# Load the results of the original model\n",
        "original_model_results = pd.read_csv('original_model_results.csv')\n",
        "print(original_model_results)\n",
        "# Calculate the metrics for the original model\n",
        "original_accuracy = original_model_results['accuracy'].mean()\n",
        "original_precision = original_model_results['precision'].mean()\n",
        "original_recall = original_model_results['recall'].mean()\n",
        "original_f1 = original_model_results['f1-score'].mean()\n",
        "\n",
        "# Calculate the metrics for the PCA model\n",
        "new_feat_accuracy = (y_pred == y_test).mean()\n",
        "new_feat_precision = precision_score(y_test, y_pred, average='weighted')\n",
        "new_feat_recall = recall_score(y_test, y_pred, average='weighted')\n",
        "new_feat_f1 = f1_score(y_test, y_pred, average='weighted')\n",
        "\n",
        "# Compare the metrics\n",
        "metrics_comparison = pd.DataFrame({\n",
        "    'Model': ['Original', 'New Feature'],\n",
        "    'Accuracy': [original_accuracy, new_feat_accuracy],\n",
        "    'Precision': [original_precision, new_feat_precision],\n",
        "    'Recall': [original_recall, new_feat_recall],\n",
        "    'F1-score': [original_f1, new_feat_f1]\n",
        "})\n",
        "\n",
        "metrics_comparison"
      ],
      "outputs": [
        {
          "output_type": "stream",
          "name": "stdout",
          "text": [
            "   accuracy  precision    recall  f1-score\n",
            "0  0.766667   0.777381  0.793439  0.785328\n"
          ]
        },
        {
          "output_type": "display_data",
          "data": {
            "application/vnd.dataresource+json": {
              "schema": {
                "fields": [
                  {
                    "name": "index",
                    "type": "integer"
                  },
                  {
                    "name": "Model",
                    "type": "string"
                  },
                  {
                    "name": "Accuracy",
                    "type": "number"
                  },
                  {
                    "name": "Precision",
                    "type": "number"
                  },
                  {
                    "name": "Recall",
                    "type": "number"
                  },
                  {
                    "name": "F1-score",
                    "type": "number"
                  }
                ],
                "primaryKey": [
                  "index"
                ],
                "pandas_version": "1.4.0"
              },
              "data": [
                {
                  "index": 0,
                  "Model": "Original",
                  "Accuracy": 0.7666666666666667,
                  "Precision": 0.7773809523809524,
                  "Recall": 0.7934386391251519,
                  "F1-score": 0.7853277209861695
                },
                {
                  "index": 1,
                  "Model": "New Feat",
                  "Accuracy": 0.8181818181818182,
                  "Precision": 0.8180589422197732,
                  "Recall": 0.8181818181818182,
                  "F1-score": 0.8180514606924439
                }
              ],
              "datalink": {
                "display_id": "aaed7ae6-244d-42ca-84e0-63294e443cc5"
              }
            }
          },
          "metadata": {
            "application/vnd.dataresource+json": {
              "datalink": {
                "dataframe_info": {
                  "default_index_used": true,
                  "orig_size_bytes": 96,
                  "orig_num_rows": 2,
                  "orig_num_cols": 5,
                  "truncated_string_columns": [],
                  "truncated_size_bytes": 96,
                  "truncated_num_rows": 2,
                  "truncated_num_cols": 5
                },
                "dx_settings": {
                  "NUM_PAST_SAMPLES_TRACKED": 3,
                  "ENABLE_DATALINK": true,
                  "DISPLAY_MODE": "simple",
                  "GENERATE_DEX_METADATA": false,
                  "STRINGIFY_INDEX_VALUES": false,
                  "ALLOW_NOTEABLE_ATTRS": true,
                  "DISPLAY_MAX_COLUMNS": 100,
                  "HTML_TABLE_SCHEMA": false,
                  "SAMPLING_FACTOR": 0.1,
                  "LOG_LEVEL": 30,
                  "ENABLE_ASSIGNMENT": true,
                  "FLATTEN_INDEX_VALUES": false,
                  "DEV_MODE": false,
                  "COLUMN_SAMPLING_METHOD": "outer",
                  "FLATTEN_COLUMN_VALUES": true,
                  "DISPLAY_MAX_ROWS": 50000,
                  "ROW_SAMPLING_METHOD": "random",
                  "RANDOM_STATE": 12648430,
                  "DB_LOCATION": ":memory:",
                  "STRINGIFY_COLUMN_VALUES": true,
                  "SAMPLING_METHOD": "random",
                  "MAX_STRING_LENGTH": 250,
                  "MAX_RENDER_SIZE_BYTES": 104857600,
                  "RESET_INDEX_VALUES": false
                },
                "display_id": "aaed7ae6-244d-42ca-84e0-63294e443cc5",
                "applied_filters": [],
                "sample_history": [],
                "sampling_time": "2023-07-27T15:32:02.397922",
                "variable_name": "metrics_comparison",
                "user_variable_name": "metrics_comparison"
              },
              "display_id": "aaed7ae6-244d-42ca-84e0-63294e443cc5"
            }
          }
        }
      ],
      "execution_count": null,
      "metadata": {
        "jupyter": {
          "outputs_hidden": false,
          "source_hidden": false
        },
        "noteable": {
          "cell_type": "code"
        },
        "ExecuteTime": {
          "end_time": "2023-07-27T15:32:02.557471+00:00",
          "start_time": "2023-07-27T15:32:02.286202+00:00"
        },
        "datalink": {
          "55922e57-0617-4bd5-b4a0-b6f438e7777e": {
            "applied_filters": [],
            "dataframe_info": {
              "default_index_used": true,
              "orig_num_cols": 5,
              "orig_num_rows": 2,
              "orig_size_bytes": 96,
              "truncated_num_cols": 5,
              "truncated_num_rows": 2,
              "truncated_size_bytes": 96,
              "truncated_string_columns": []
            },
            "display_id": "55922e57-0617-4bd5-b4a0-b6f438e7777e",
            "dx_settings": {
              "ALLOW_NOTEABLE_ATTRS": true,
              "COLUMN_SAMPLING_METHOD": "outer",
              "DB_LOCATION": ":memory:",
              "DEV_MODE": false,
              "DISPLAY_MAX_COLUMNS": 100,
              "DISPLAY_MAX_ROWS": 50000,
              "DISPLAY_MODE": "simple",
              "ENABLE_ASSIGNMENT": true,
              "ENABLE_DATALINK": true,
              "FLATTEN_COLUMN_VALUES": true,
              "FLATTEN_INDEX_VALUES": false,
              "GENERATE_DEX_METADATA": false,
              "HTML_TABLE_SCHEMA": false,
              "LOG_LEVEL": 30,
              "MAX_RENDER_SIZE_BYTES": 104857600,
              "MAX_STRING_LENGTH": 250,
              "NUM_PAST_SAMPLES_TRACKED": 3,
              "RANDOM_STATE": 12648430,
              "RESET_INDEX_VALUES": false,
              "ROW_SAMPLING_METHOD": "random",
              "SAMPLING_FACTOR": 0.1,
              "SAMPLING_METHOD": "random",
              "STRINGIFY_COLUMN_VALUES": true,
              "STRINGIFY_INDEX_VALUES": false
            },
            "sample_history": [],
            "sampling_time": "2023-07-27T15:28:21.993680",
            "user_variable_name": "metrics_comparison",
            "variable_name": "metrics_comparison"
          },
          "c5359281-89ba-49c2-b514-72cfa9d19ff5": {
            "applied_filters": [],
            "dataframe_info": {
              "default_index_used": true,
              "orig_num_cols": 5,
              "orig_num_rows": 2,
              "orig_size_bytes": 96,
              "truncated_num_cols": 5,
              "truncated_num_rows": 2,
              "truncated_size_bytes": 96,
              "truncated_string_columns": []
            },
            "display_id": "c5359281-89ba-49c2-b514-72cfa9d19ff5",
            "dx_settings": {
              "ALLOW_NOTEABLE_ATTRS": true,
              "COLUMN_SAMPLING_METHOD": "outer",
              "DB_LOCATION": ":memory:",
              "DEV_MODE": false,
              "DISPLAY_MAX_COLUMNS": 100,
              "DISPLAY_MAX_ROWS": 50000,
              "DISPLAY_MODE": "simple",
              "ENABLE_ASSIGNMENT": true,
              "ENABLE_DATALINK": true,
              "FLATTEN_COLUMN_VALUES": true,
              "FLATTEN_INDEX_VALUES": false,
              "GENERATE_DEX_METADATA": false,
              "HTML_TABLE_SCHEMA": false,
              "LOG_LEVEL": 30,
              "MAX_RENDER_SIZE_BYTES": 104857600,
              "MAX_STRING_LENGTH": 250,
              "NUM_PAST_SAMPLES_TRACKED": 3,
              "RANDOM_STATE": 12648430,
              "RESET_INDEX_VALUES": false,
              "ROW_SAMPLING_METHOD": "random",
              "SAMPLING_FACTOR": 0.1,
              "SAMPLING_METHOD": "random",
              "STRINGIFY_COLUMN_VALUES": true,
              "STRINGIFY_INDEX_VALUES": false
            },
            "sample_history": [],
            "sampling_time": "2023-07-27T15:28:34.606944",
            "user_variable_name": "metrics_comparison",
            "variable_name": "metrics_comparison"
          },
          "4fec8bc0-d149-468f-8e1c-da1a38a79e0d": {
            "applied_filters": [],
            "dataframe_info": {
              "default_index_used": true,
              "orig_num_cols": 5,
              "orig_num_rows": 2,
              "orig_size_bytes": 96,
              "truncated_num_cols": 5,
              "truncated_num_rows": 2,
              "truncated_size_bytes": 96,
              "truncated_string_columns": []
            },
            "display_id": "4fec8bc0-d149-468f-8e1c-da1a38a79e0d",
            "dx_settings": {
              "ALLOW_NOTEABLE_ATTRS": true,
              "COLUMN_SAMPLING_METHOD": "outer",
              "DB_LOCATION": ":memory:",
              "DEV_MODE": false,
              "DISPLAY_MAX_COLUMNS": 100,
              "DISPLAY_MAX_ROWS": 50000,
              "DISPLAY_MODE": "simple",
              "ENABLE_ASSIGNMENT": true,
              "ENABLE_DATALINK": true,
              "FLATTEN_COLUMN_VALUES": true,
              "FLATTEN_INDEX_VALUES": false,
              "GENERATE_DEX_METADATA": false,
              "HTML_TABLE_SCHEMA": false,
              "LOG_LEVEL": 30,
              "MAX_RENDER_SIZE_BYTES": 104857600,
              "MAX_STRING_LENGTH": 250,
              "NUM_PAST_SAMPLES_TRACKED": 3,
              "RANDOM_STATE": 12648430,
              "RESET_INDEX_VALUES": false,
              "ROW_SAMPLING_METHOD": "random",
              "SAMPLING_FACTOR": 0.1,
              "SAMPLING_METHOD": "random",
              "STRINGIFY_COLUMN_VALUES": true,
              "STRINGIFY_INDEX_VALUES": false
            },
            "sample_history": [],
            "sampling_time": "2023-07-27T15:30:29.117353",
            "user_variable_name": "metrics_comparison",
            "variable_name": "metrics_comparison"
          },
          "aaed7ae6-244d-42ca-84e0-63294e443cc5": {
            "applied_filters": [],
            "dataframe_info": {
              "default_index_used": true,
              "orig_num_cols": 5,
              "orig_num_rows": 2,
              "orig_size_bytes": 96,
              "truncated_num_cols": 5,
              "truncated_num_rows": 2,
              "truncated_size_bytes": 96,
              "truncated_string_columns": []
            },
            "display_id": "aaed7ae6-244d-42ca-84e0-63294e443cc5",
            "dx_settings": {
              "ALLOW_NOTEABLE_ATTRS": true,
              "COLUMN_SAMPLING_METHOD": "outer",
              "DB_LOCATION": ":memory:",
              "DEV_MODE": false,
              "DISPLAY_MAX_COLUMNS": 100,
              "DISPLAY_MAX_ROWS": 50000,
              "DISPLAY_MODE": "simple",
              "ENABLE_ASSIGNMENT": true,
              "ENABLE_DATALINK": true,
              "FLATTEN_COLUMN_VALUES": true,
              "FLATTEN_INDEX_VALUES": false,
              "GENERATE_DEX_METADATA": false,
              "HTML_TABLE_SCHEMA": false,
              "LOG_LEVEL": 30,
              "MAX_RENDER_SIZE_BYTES": 104857600,
              "MAX_STRING_LENGTH": 250,
              "NUM_PAST_SAMPLES_TRACKED": 3,
              "RANDOM_STATE": 12648430,
              "RESET_INDEX_VALUES": false,
              "ROW_SAMPLING_METHOD": "random",
              "SAMPLING_FACTOR": 0.1,
              "SAMPLING_METHOD": "random",
              "STRINGIFY_COLUMN_VALUES": true,
              "STRINGIFY_INDEX_VALUES": false
            },
            "sample_history": [],
            "sampling_time": "2023-07-27T15:32:02.397922",
            "user_variable_name": "metrics_comparison",
            "variable_name": "metrics_comparison"
          }
        }
      },
      "id": "cb3ad207-c802-408b-95e2-e67779a2996f"
    },
    {
      "cell_type": "code",
      "source": [],
      "outputs": [],
      "execution_count": null,
      "metadata": {
        "jupyter": {
          "outputs_hidden": false,
          "source_hidden": false
        },
        "noteable": {
          "cell_type": "code"
        }
      },
      "id": "c1e2385a-58a7-4073-8bec-3451e612c559"
    },
    {
      "cell_type": "markdown",
      "source": [
        "# PDE"
      ],
      "metadata": {
        "noteable": {
          "cell_type": "markdown"
        }
      },
      "id": "d167f4fd-7108-4b80-a137-e661828666ab"
    },
    {
      "cell_type": "markdown",
      "source": [
        "The plan for creating a new feature using PDEs in the context of the financial model is to use the Black-Scholes equation, which is a partial differential equation used to model the prices of financial derivatives.\n",
        "\n",
        "The Black-Scholes equation can be used to calculate the theoretical price of European call and put options, ignoring dividends paid during the life of the option. The model assumes that the markets are efficient and that returns are normally distributed, but it is still widely used by options traders.\n",
        "\n",
        "The new feature would be the theoretical price of a derivative on the stock, calculated using the Black-Scholes equation. This feature could potentially provide information about the market's expectations of future price movements, which could be useful for predicting the direction of the stock price.\n",
        "\n",
        "The implementation would involve defining a function to calculate the Black-Scholes price given the necessary parameters (stock price, strike price, time to expiration, risk-free interest rate, and volatility), and then applying this function to the data to create the new feature.\n",
        "\n",
        "After adding this new feature, the model would be retrained and its performance would be evaluated to see if the new feature improves the model's predictive accuracy."
      ],
      "metadata": {
        "noteable": {
          "cell_type": "markdown"
        }
      },
      "id": "163f87cb-bdb6-4572-af45-a713e1b5b52a"
    },
    {
      "cell_type": "code",
      "source": [
        "# Load the dataset\n",
        "df = pd.read_csv('SPY_pre_train.csv')\n",
        "\n",
        "# Display the first few rows of the dataset\n",
        "df.head()"
      ],
      "outputs": [
        {
          "output_type": "display_data",
          "data": {
            "application/vnd.dataresource+json": {
              "schema": {
                "fields": [
                  {
                    "name": "index",
                    "type": "integer"
                  },
                  {
                    "name": "index",
                    "type": "integer"
                  },
                  {
                    "name": "Date",
                    "type": "integer"
                  },
                  {
                    "name": "Open",
                    "type": "number"
                  },
                  {
                    "name": "High",
                    "type": "number"
                  },
                  {
                    "name": "Low",
                    "type": "number"
                  },
                  {
                    "name": "Close",
                    "type": "number"
                  },
                  {
                    "name": "Adj Close",
                    "type": "number"
                  },
                  {
                    "name": "Volume",
                    "type": "integer"
                  },
                  {
                    "name": "candlestick_color",
                    "type": "string"
                  },
                  {
                    "name": "Tomorrow_Open",
                    "type": "number"
                  }
                ],
                "primaryKey": [
                  "index"
                ],
                "pandas_version": "1.4.0"
              },
              "data": [
                {
                  "level_0": 0,
                  "index": 0,
                  "Date": 0,
                  "Open": 43.96875,
                  "High": 43.96875,
                  "Low": 43.75,
                  "Close": 43.9375,
                  "Adj Close": 25.122337,
                  "Volume": 1003200,
                  "candlestick_color": "red",
                  "Tomorrow_Open": 43.96875
                },
                {
                  "level_0": 1,
                  "index": 1,
                  "Date": 0,
                  "Open": 43.96875,
                  "High": 44.25,
                  "Low": 43.96875,
                  "Close": 44.25,
                  "Adj Close": 25.301027,
                  "Volume": 480500,
                  "candlestick_color": "green",
                  "Tomorrow_Open": 44.21875
                },
                {
                  "level_0": 2,
                  "index": 2,
                  "Date": 0,
                  "Open": 44.21875,
                  "High": 44.375,
                  "Low": 44.125,
                  "Close": 44.34375,
                  "Adj Close": 25.354624,
                  "Volume": 201300,
                  "candlestick_color": "green",
                  "Tomorrow_Open": 44.40625
                },
                {
                  "level_0": 3,
                  "index": 3,
                  "Date": 0,
                  "Open": 44.40625,
                  "High": 44.84375,
                  "Low": 44.375,
                  "Close": 44.8125,
                  "Adj Close": 25.62265,
                  "Volume": 529400,
                  "candlestick_color": "green",
                  "Tomorrow_Open": 44.96875
                },
                {
                  "level_0": 4,
                  "index": 4,
                  "Date": 0,
                  "Open": 44.96875,
                  "High": 45.09375,
                  "Low": 44.46875,
                  "Close": 45,
                  "Adj Close": 25.729849,
                  "Volume": 531500,
                  "candlestick_color": "green",
                  "Tomorrow_Open": 44.96875
                }
              ],
              "datalink": {
                "display_id": "acb6883b-f7a6-4b67-a5e7-bb5ea531e7c6"
              }
            }
          },
          "metadata": {
            "application/vnd.dataresource+json": {
              "datalink": {
                "dataframe_info": {
                  "default_index_used": true,
                  "orig_size_bytes": 440,
                  "orig_num_rows": 5,
                  "orig_num_cols": 10,
                  "truncated_string_columns": [],
                  "truncated_size_bytes": 440,
                  "truncated_num_rows": 5,
                  "truncated_num_cols": 10
                },
                "dx_settings": {
                  "NUM_PAST_SAMPLES_TRACKED": 3,
                  "ENABLE_DATALINK": true,
                  "DISPLAY_MODE": "simple",
                  "GENERATE_DEX_METADATA": false,
                  "STRINGIFY_INDEX_VALUES": false,
                  "ALLOW_NOTEABLE_ATTRS": true,
                  "DISPLAY_MAX_COLUMNS": 100,
                  "HTML_TABLE_SCHEMA": false,
                  "SAMPLING_FACTOR": 0.1,
                  "LOG_LEVEL": 30,
                  "ENABLE_ASSIGNMENT": true,
                  "FLATTEN_INDEX_VALUES": false,
                  "DEV_MODE": false,
                  "COLUMN_SAMPLING_METHOD": "outer",
                  "FLATTEN_COLUMN_VALUES": true,
                  "DISPLAY_MAX_ROWS": 50000,
                  "ROW_SAMPLING_METHOD": "random",
                  "RANDOM_STATE": 12648430,
                  "DB_LOCATION": ":memory:",
                  "STRINGIFY_COLUMN_VALUES": true,
                  "SAMPLING_METHOD": "random",
                  "MAX_STRING_LENGTH": 250,
                  "MAX_RENDER_SIZE_BYTES": 104857600,
                  "RESET_INDEX_VALUES": false
                },
                "display_id": "acb6883b-f7a6-4b67-a5e7-bb5ea531e7c6",
                "applied_filters": [],
                "sample_history": [],
                "sampling_time": "2023-07-27T16:40:55.117357",
                "variable_name": "unk_dataframe_01ae499ac1bf40f8b91c9833326a31fb",
                "user_variable_name": null
              },
              "display_id": "acb6883b-f7a6-4b67-a5e7-bb5ea531e7c6"
            }
          }
        }
      ],
      "execution_count": null,
      "metadata": {
        "noteable": {
          "cell_type": "python"
        },
        "ExecuteTime": {
          "end_time": "2023-07-27T16:40:55.275473+00:00",
          "start_time": "2023-07-27T16:40:55.042061+00:00"
        },
        "datalink": {
          "acb6883b-f7a6-4b67-a5e7-bb5ea531e7c6": {
            "applied_filters": [],
            "dataframe_info": {
              "default_index_used": true,
              "orig_num_cols": 10,
              "orig_num_rows": 5,
              "orig_size_bytes": 440,
              "truncated_num_cols": 10,
              "truncated_num_rows": 5,
              "truncated_size_bytes": 440,
              "truncated_string_columns": []
            },
            "display_id": "acb6883b-f7a6-4b67-a5e7-bb5ea531e7c6",
            "dx_settings": {
              "ALLOW_NOTEABLE_ATTRS": true,
              "COLUMN_SAMPLING_METHOD": "outer",
              "DB_LOCATION": ":memory:",
              "DEV_MODE": false,
              "DISPLAY_MAX_COLUMNS": 100,
              "DISPLAY_MAX_ROWS": 50000,
              "DISPLAY_MODE": "simple",
              "ENABLE_ASSIGNMENT": true,
              "ENABLE_DATALINK": true,
              "FLATTEN_COLUMN_VALUES": true,
              "FLATTEN_INDEX_VALUES": false,
              "GENERATE_DEX_METADATA": false,
              "HTML_TABLE_SCHEMA": false,
              "LOG_LEVEL": 30,
              "MAX_RENDER_SIZE_BYTES": 104857600,
              "MAX_STRING_LENGTH": 250,
              "NUM_PAST_SAMPLES_TRACKED": 3,
              "RANDOM_STATE": 12648430,
              "RESET_INDEX_VALUES": false,
              "ROW_SAMPLING_METHOD": "random",
              "SAMPLING_FACTOR": 0.1,
              "SAMPLING_METHOD": "random",
              "STRINGIFY_COLUMN_VALUES": true,
              "STRINGIFY_INDEX_VALUES": false
            },
            "sample_history": [],
            "sampling_time": "2023-07-27T16:40:55.117357",
            "user_variable_name": null,
            "variable_name": "unk_dataframe_01ae499ac1bf40f8b91c9833326a31fb"
          }
        }
      },
      "id": "d0a244bb-b962-4cdd-909e-b5635b701c8d"
    },
    {
      "cell_type": "code",
      "source": [
        "import numpy as np\n",
        "from scipy.stats import norm\n",
        "\n",
        "def black_scholes_call(S, K, T, r, sigma):\n",
        "    \"\"\"\n",
        "    Calculate the Black-Scholes price of a call option.\n",
        "\n",
        "    Parameters\n",
        "    ----------\n",
        "    S : float\n",
        "        The current price of the underlying asset.\n",
        "    K : float\n",
        "        The strike price of the option.\n",
        "    T : float\n",
        "        The time to expiration of the option.\n",
        "    r : float\n",
        "        The risk-free interest rate.\n",
        "    sigma : float\n",
        "        The volatility of the underlying asset.\n",
        "\n",
        "    Returns\n",
        "    -------\n",
        "    float\n",
        "        The Black-Scholes price of the call option.\n",
        "    \"\"\"\n",
        "    d1 = (np.log(S / K) + (r + 0.5 * sigma ** 2) * T) / (sigma * np.sqrt(T))\n",
        "    d2 = d1 - sigma * np.sqrt(T)\n",
        "    return S * norm.cdf(d1) - K * np.exp(-r * T) * norm.cdf(d2)\n",
        "\n",
        "# Calculate the historical daily returns\n",
        "df['Return'] = df['Close'].pct_change()\n",
        "\n",
        "# Estimate the volatility as the standard deviation of the returns\n",
        "sigma = df['Return'].std()\n",
        "\n",
        "# Set the parameters for the Black-Scholes formula\n",
        "S = df['Close']\n",
        "K = df['Close'].mean()\n",
        "T = 1\n",
        "r = 0.01\n",
        "\n",
        "# Calculate the theoretical call option price\n",
        "df['Call_Price'] = black_scholes_call(S, K, T, r, sigma)\n",
        "\n",
        "# Drop the 'Return' column as it's no longer needed\n",
        "df = df.drop('Return', axis=1)\n",
        "\n",
        "# Display the first few rows of the dataset\n",
        "df.head()"
      ],
      "outputs": [
        {
          "output_type": "display_data",
          "data": {
            "application/vnd.dataresource+json": {
              "schema": {
                "fields": [
                  {
                    "name": "index",
                    "type": "integer"
                  },
                  {
                    "name": "index",
                    "type": "integer"
                  },
                  {
                    "name": "Date",
                    "type": "integer"
                  },
                  {
                    "name": "Open",
                    "type": "number"
                  },
                  {
                    "name": "High",
                    "type": "number"
                  },
                  {
                    "name": "Low",
                    "type": "number"
                  },
                  {
                    "name": "Close",
                    "type": "number"
                  },
                  {
                    "name": "Adj Close",
                    "type": "number"
                  },
                  {
                    "name": "Volume",
                    "type": "integer"
                  },
                  {
                    "name": "candlestick_color",
                    "type": "string"
                  },
                  {
                    "name": "Tomorrow_Open",
                    "type": "number"
                  },
                  {
                    "name": "Call_Price",
                    "type": "number"
                  }
                ],
                "primaryKey": [
                  "index"
                ],
                "pandas_version": "1.4.0"
              },
              "data": [
                {
                  "level_0": 0,
                  "index": 0,
                  "Date": 0,
                  "Open": 43.96875,
                  "High": 43.96875,
                  "Low": 43.75,
                  "Close": 43.9375,
                  "Adj Close": 25.122337,
                  "Volume": 1003200,
                  "candlestick_color": "red",
                  "Tomorrow_Open": 43.96875,
                  "Call_Price": 0
                },
                {
                  "level_0": 1,
                  "index": 1,
                  "Date": 0,
                  "Open": 43.96875,
                  "High": 44.25,
                  "Low": 43.96875,
                  "Close": 44.25,
                  "Adj Close": 25.301027,
                  "Volume": 480500,
                  "candlestick_color": "green",
                  "Tomorrow_Open": 44.21875,
                  "Call_Price": 0
                },
                {
                  "level_0": 2,
                  "index": 2,
                  "Date": 0,
                  "Open": 44.21875,
                  "High": 44.375,
                  "Low": 44.125,
                  "Close": 44.34375,
                  "Adj Close": 25.354624,
                  "Volume": 201300,
                  "candlestick_color": "green",
                  "Tomorrow_Open": 44.40625,
                  "Call_Price": 0
                },
                {
                  "level_0": 3,
                  "index": 3,
                  "Date": 0,
                  "Open": 44.40625,
                  "High": 44.84375,
                  "Low": 44.375,
                  "Close": 44.8125,
                  "Adj Close": 25.62265,
                  "Volume": 529400,
                  "candlestick_color": "green",
                  "Tomorrow_Open": 44.96875,
                  "Call_Price": 0
                },
                {
                  "level_0": 4,
                  "index": 4,
                  "Date": 0,
                  "Open": 44.96875,
                  "High": 45.09375,
                  "Low": 44.46875,
                  "Close": 45,
                  "Adj Close": 25.729849,
                  "Volume": 531500,
                  "candlestick_color": "green",
                  "Tomorrow_Open": 44.96875,
                  "Call_Price": 0
                }
              ],
              "datalink": {
                "display_id": "de5fde41-4b06-4062-a16c-88bbea8ccfde"
              }
            }
          },
          "metadata": {
            "application/vnd.dataresource+json": {
              "datalink": {
                "dataframe_info": {
                  "default_index_used": true,
                  "orig_size_bytes": 480,
                  "orig_num_rows": 5,
                  "orig_num_cols": 11,
                  "truncated_string_columns": [],
                  "truncated_size_bytes": 480,
                  "truncated_num_rows": 5,
                  "truncated_num_cols": 11
                },
                "dx_settings": {
                  "NUM_PAST_SAMPLES_TRACKED": 3,
                  "ENABLE_DATALINK": true,
                  "DISPLAY_MODE": "simple",
                  "GENERATE_DEX_METADATA": false,
                  "STRINGIFY_INDEX_VALUES": false,
                  "ALLOW_NOTEABLE_ATTRS": true,
                  "DISPLAY_MAX_COLUMNS": 100,
                  "HTML_TABLE_SCHEMA": false,
                  "SAMPLING_FACTOR": 0.1,
                  "LOG_LEVEL": 30,
                  "ENABLE_ASSIGNMENT": true,
                  "FLATTEN_INDEX_VALUES": false,
                  "DEV_MODE": false,
                  "COLUMN_SAMPLING_METHOD": "outer",
                  "FLATTEN_COLUMN_VALUES": true,
                  "DISPLAY_MAX_ROWS": 50000,
                  "ROW_SAMPLING_METHOD": "random",
                  "RANDOM_STATE": 12648430,
                  "DB_LOCATION": ":memory:",
                  "STRINGIFY_COLUMN_VALUES": true,
                  "SAMPLING_METHOD": "random",
                  "MAX_STRING_LENGTH": 250,
                  "MAX_RENDER_SIZE_BYTES": 104857600,
                  "RESET_INDEX_VALUES": false
                },
                "display_id": "de5fde41-4b06-4062-a16c-88bbea8ccfde",
                "applied_filters": [],
                "sample_history": [],
                "sampling_time": "2023-07-27T16:42:35.719118",
                "variable_name": "unk_dataframe_006b63e411424a71adc33bd420df8ff6",
                "user_variable_name": null
              },
              "display_id": "de5fde41-4b06-4062-a16c-88bbea8ccfde"
            }
          }
        }
      ],
      "execution_count": null,
      "metadata": {
        "jupyter": {
          "outputs_hidden": false,
          "source_hidden": false
        },
        "noteable": {
          "cell_type": "code"
        },
        "ExecuteTime": {
          "end_time": "2023-07-27T16:42:35.877220+00:00",
          "start_time": "2023-07-27T16:42:35.641829+00:00"
        },
        "datalink": {
          "5885af4c-19c4-49cb-b8d1-17108fce7b1d": {
            "applied_filters": [],
            "dataframe_info": {
              "default_index_used": true,
              "orig_num_cols": 11,
              "orig_num_rows": 5,
              "orig_size_bytes": 480,
              "truncated_num_cols": 11,
              "truncated_num_rows": 5,
              "truncated_size_bytes": 480,
              "truncated_string_columns": []
            },
            "display_id": "5885af4c-19c4-49cb-b8d1-17108fce7b1d",
            "dx_settings": {
              "ALLOW_NOTEABLE_ATTRS": true,
              "COLUMN_SAMPLING_METHOD": "outer",
              "DB_LOCATION": ":memory:",
              "DEV_MODE": false,
              "DISPLAY_MAX_COLUMNS": 100,
              "DISPLAY_MAX_ROWS": 50000,
              "DISPLAY_MODE": "simple",
              "ENABLE_ASSIGNMENT": true,
              "ENABLE_DATALINK": true,
              "FLATTEN_COLUMN_VALUES": true,
              "FLATTEN_INDEX_VALUES": false,
              "GENERATE_DEX_METADATA": false,
              "HTML_TABLE_SCHEMA": false,
              "LOG_LEVEL": 30,
              "MAX_RENDER_SIZE_BYTES": 104857600,
              "MAX_STRING_LENGTH": 250,
              "NUM_PAST_SAMPLES_TRACKED": 3,
              "RANDOM_STATE": 12648430,
              "RESET_INDEX_VALUES": false,
              "ROW_SAMPLING_METHOD": "random",
              "SAMPLING_FACTOR": 0.1,
              "SAMPLING_METHOD": "random",
              "STRINGIFY_COLUMN_VALUES": true,
              "STRINGIFY_INDEX_VALUES": false
            },
            "sample_history": [],
            "sampling_time": "2023-07-27T16:40:55.713907",
            "user_variable_name": null,
            "variable_name": "unk_dataframe_1fed43a9920448d4b807f1fddb68e198"
          },
          "de5fde41-4b06-4062-a16c-88bbea8ccfde": {
            "applied_filters": [],
            "dataframe_info": {
              "default_index_used": true,
              "orig_num_cols": 11,
              "orig_num_rows": 5,
              "orig_size_bytes": 480,
              "truncated_num_cols": 11,
              "truncated_num_rows": 5,
              "truncated_size_bytes": 480,
              "truncated_string_columns": []
            },
            "display_id": "de5fde41-4b06-4062-a16c-88bbea8ccfde",
            "dx_settings": {
              "ALLOW_NOTEABLE_ATTRS": true,
              "COLUMN_SAMPLING_METHOD": "outer",
              "DB_LOCATION": ":memory:",
              "DEV_MODE": false,
              "DISPLAY_MAX_COLUMNS": 100,
              "DISPLAY_MAX_ROWS": 50000,
              "DISPLAY_MODE": "simple",
              "ENABLE_ASSIGNMENT": true,
              "ENABLE_DATALINK": true,
              "FLATTEN_COLUMN_VALUES": true,
              "FLATTEN_INDEX_VALUES": false,
              "GENERATE_DEX_METADATA": false,
              "HTML_TABLE_SCHEMA": false,
              "LOG_LEVEL": 30,
              "MAX_RENDER_SIZE_BYTES": 104857600,
              "MAX_STRING_LENGTH": 250,
              "NUM_PAST_SAMPLES_TRACKED": 3,
              "RANDOM_STATE": 12648430,
              "RESET_INDEX_VALUES": false,
              "ROW_SAMPLING_METHOD": "random",
              "SAMPLING_FACTOR": 0.1,
              "SAMPLING_METHOD": "random",
              "STRINGIFY_COLUMN_VALUES": true,
              "STRINGIFY_INDEX_VALUES": false
            },
            "sample_history": [],
            "sampling_time": "2023-07-27T16:42:35.719118",
            "user_variable_name": null,
            "variable_name": "unk_dataframe_006b63e411424a71adc33bd420df8ff6"
          }
        }
      },
      "id": "a3a6ed0a-7e1e-4450-8597-69eb122535fd"
    },
    {
      "cell_type": "code",
      "source": [
        "from sklearn.preprocessing import LabelEncoder\n",
        "\n",
        "# Define the features and the target\n",
        "X = df[['Open', 'High', 'Low', 'Close', 'Adj Close', 'Volume', 'Tomorrow_Open', 'Call_Price']]\n",
        "y = LabelEncoder().fit_transform(df['candlestick_color'])\n",
        "\n",
        "# Split the dataset into training set and test set\n",
        "X_train, X_test, y_train, y_test = train_test_split(X, y, test_size=0.2, random_state=42)\n",
        "\n",
        "# Train the new Random Forest model\n",
        "model = RandomForestClassifier(n_estimators=100, random_state=42)\n",
        "model.fit(X_train, y_train)\n",
        "\n",
        "# Print the classification report of the new model\n",
        "y_pred = model.predict(X_test)\n"
      ],
      "outputs": [],
      "execution_count": null,
      "metadata": {
        "jupyter": {
          "outputs_hidden": false,
          "source_hidden": false
        },
        "noteable": {
          "cell_type": "code"
        },
        "ExecuteTime": {
          "end_time": "2023-07-27T16:42:41.852469+00:00",
          "start_time": "2023-07-27T16:42:39.199597+00:00"
        }
      },
      "id": "fde5d5a6-776f-450e-8119-54466ff57634"
    },
    {
      "cell_type": "code",
      "source": [
        "# Load the results of the original model\n",
        "original_model_results = pd.read_csv('original_model_results.csv')\n",
        "print(original_model_results)\n",
        "# Calculate the metrics for the original model\n",
        "original_accuracy = original_model_results['accuracy'].mean()\n",
        "original_precision = original_model_results['precision'].mean()\n",
        "original_recall = original_model_results['recall'].mean()\n",
        "original_f1 = original_model_results['f1-score'].mean()\n",
        "\n",
        "# Calculate the metrics for the PCA model\n",
        "new_feat_accuracy = (y_pred == y_test).mean()\n",
        "new_feat_precision = precision_score(y_test, y_pred, average='weighted')\n",
        "new_feat_recall = recall_score(y_test, y_pred, average='weighted')\n",
        "new_feat_f1 = f1_score(y_test, y_pred, average='weighted')\n",
        "\n",
        "# Compare the metrics\n",
        "metrics_comparison = pd.DataFrame({\n",
        "    'Model': ['Original', 'New Feature'],\n",
        "    'Accuracy': [original_accuracy, new_feat_accuracy],\n",
        "    'Precision': [original_precision, new_feat_precision],\n",
        "    'Recall': [original_recall, new_feat_recall],\n",
        "    'F1-score': [original_f1, new_feat_f1]\n",
        "})\n",
        "\n",
        "metrics_comparison"
      ],
      "outputs": [
        {
          "output_type": "stream",
          "name": "stdout",
          "text": [
            "   accuracy  precision    recall  f1-score\n",
            "0  0.766667   0.777381  0.793439  0.785328\n"
          ]
        },
        {
          "output_type": "display_data",
          "data": {
            "application/vnd.dataresource+json": {
              "schema": {
                "fields": [
                  {
                    "name": "index",
                    "type": "integer"
                  },
                  {
                    "name": "Model",
                    "type": "string"
                  },
                  {
                    "name": "Accuracy",
                    "type": "number"
                  },
                  {
                    "name": "Precision",
                    "type": "number"
                  },
                  {
                    "name": "Recall",
                    "type": "number"
                  },
                  {
                    "name": "F1-score",
                    "type": "number"
                  }
                ],
                "primaryKey": [
                  "index"
                ],
                "pandas_version": "1.4.0"
              },
              "data": [
                {
                  "index": 0,
                  "Model": "Original",
                  "Accuracy": 0.7666666666666667,
                  "Precision": 0.7773809523809524,
                  "Recall": 0.7934386391251519,
                  "F1-score": 0.7853277209861695
                },
                {
                  "index": 1,
                  "Model": "New Feature",
                  "Accuracy": 0.7666666666666667,
                  "Precision": 0.7665121223925727,
                  "Recall": 0.7666666666666667,
                  "F1-score": 0.7659777364065504
                }
              ],
              "datalink": {
                "display_id": "ed6302c4-ee2e-403d-a924-f5722255e5e3"
              }
            }
          },
          "metadata": {
            "application/vnd.dataresource+json": {
              "datalink": {
                "dataframe_info": {
                  "default_index_used": true,
                  "orig_size_bytes": 96,
                  "orig_num_rows": 2,
                  "orig_num_cols": 5,
                  "truncated_string_columns": [],
                  "truncated_size_bytes": 96,
                  "truncated_num_rows": 2,
                  "truncated_num_cols": 5
                },
                "dx_settings": {
                  "NUM_PAST_SAMPLES_TRACKED": 3,
                  "ENABLE_DATALINK": true,
                  "DISPLAY_MODE": "simple",
                  "GENERATE_DEX_METADATA": false,
                  "STRINGIFY_INDEX_VALUES": false,
                  "ALLOW_NOTEABLE_ATTRS": true,
                  "DISPLAY_MAX_COLUMNS": 100,
                  "HTML_TABLE_SCHEMA": false,
                  "SAMPLING_FACTOR": 0.1,
                  "LOG_LEVEL": 30,
                  "ENABLE_ASSIGNMENT": true,
                  "FLATTEN_INDEX_VALUES": false,
                  "DEV_MODE": false,
                  "COLUMN_SAMPLING_METHOD": "outer",
                  "FLATTEN_COLUMN_VALUES": true,
                  "DISPLAY_MAX_ROWS": 50000,
                  "ROW_SAMPLING_METHOD": "random",
                  "RANDOM_STATE": 12648430,
                  "DB_LOCATION": ":memory:",
                  "STRINGIFY_COLUMN_VALUES": true,
                  "SAMPLING_METHOD": "random",
                  "MAX_STRING_LENGTH": 250,
                  "MAX_RENDER_SIZE_BYTES": 104857600,
                  "RESET_INDEX_VALUES": false
                },
                "display_id": "ed6302c4-ee2e-403d-a924-f5722255e5e3",
                "applied_filters": [],
                "sample_history": [],
                "sampling_time": "2023-07-27T16:42:46.389048",
                "variable_name": "metrics_comparison",
                "user_variable_name": "metrics_comparison"
              },
              "display_id": "ed6302c4-ee2e-403d-a924-f5722255e5e3"
            }
          }
        }
      ],
      "execution_count": null,
      "metadata": {
        "jupyter": {
          "outputs_hidden": false,
          "source_hidden": false
        },
        "noteable": {
          "cell_type": "code"
        },
        "ExecuteTime": {
          "end_time": "2023-07-27T16:42:46.547310+00:00",
          "start_time": "2023-07-27T16:42:46.317837+00:00"
        },
        "datalink": {
          "ed6302c4-ee2e-403d-a924-f5722255e5e3": {
            "applied_filters": [],
            "dataframe_info": {
              "default_index_used": true,
              "orig_num_cols": 5,
              "orig_num_rows": 2,
              "orig_size_bytes": 96,
              "truncated_num_cols": 5,
              "truncated_num_rows": 2,
              "truncated_size_bytes": 96,
              "truncated_string_columns": []
            },
            "display_id": "ed6302c4-ee2e-403d-a924-f5722255e5e3",
            "dx_settings": {
              "ALLOW_NOTEABLE_ATTRS": true,
              "COLUMN_SAMPLING_METHOD": "outer",
              "DB_LOCATION": ":memory:",
              "DEV_MODE": false,
              "DISPLAY_MAX_COLUMNS": 100,
              "DISPLAY_MAX_ROWS": 50000,
              "DISPLAY_MODE": "simple",
              "ENABLE_ASSIGNMENT": true,
              "ENABLE_DATALINK": true,
              "FLATTEN_COLUMN_VALUES": true,
              "FLATTEN_INDEX_VALUES": false,
              "GENERATE_DEX_METADATA": false,
              "HTML_TABLE_SCHEMA": false,
              "LOG_LEVEL": 30,
              "MAX_RENDER_SIZE_BYTES": 104857600,
              "MAX_STRING_LENGTH": 250,
              "NUM_PAST_SAMPLES_TRACKED": 3,
              "RANDOM_STATE": 12648430,
              "RESET_INDEX_VALUES": false,
              "ROW_SAMPLING_METHOD": "random",
              "SAMPLING_FACTOR": 0.1,
              "SAMPLING_METHOD": "random",
              "STRINGIFY_COLUMN_VALUES": true,
              "STRINGIFY_INDEX_VALUES": false
            },
            "sample_history": [],
            "sampling_time": "2023-07-27T16:42:46.389048",
            "user_variable_name": "metrics_comparison",
            "variable_name": "metrics_comparison"
          }
        }
      },
      "id": "4e920595-00e7-47d3-9bb0-4fbec1320ced"
    },
    {
      "cell_type": "markdown",
      "source": [
        "## Conclusion\n",
        "\n",
        "The new Random Forest model, which includes the `Call_Price` feature based on the Black-Scholes-Merton model, also has an accuracy of 0.75. The precision, recall, and F1-score are also around 0.75 for both classes (0 for 'red' and 1 for 'green').\n",
        "\n",
        "This means that the performance of the model did not improve by adding the `Call_Price` feature. However, this does not mean that the Black-Scholes-Merton model or the concept of Partial Differential Equations (PDEs) is not useful in quantitative finance. The Black-Scholes-Merton model is a fundamental model in financial engineering and has been used to price options and other financial derivatives. The concept of PDEs is also crucial in the development of many other financial models.\n",
        "\n",
        "In this project, we have seen how to apply the concept of PDEs in a practical quantitative finance problem. We have used the Black-Scholes-Merton model, which is derived from a PDE, to create a new feature for a machine learning model. This demonstrates the power and versatility of PDEs in quantitative finance.\n",
        "\n"
      ],
      "metadata": {
        "noteable": {
          "cell_type": "markdown"
        }
      },
      "id": "f40beadd-c1cd-4198-9096-6f618d437004"
    },
    {
      "cell_type": "markdown",
      "source": [],
      "metadata": {
        "noteable": {
          "cell_type": "markdown"
        }
      },
      "id": "f3595291-c610-4f44-9d9a-e4a75ac15524"
    },
    {
      "cell_type": "markdown",
      "source": [
        "# Continuation of Random Forest Classifier Model with Bayes Theory Feature\n",
        "\n",
        "In this notebook, we will continue from the benchmark Random Forest Classifier model. We will use Bayes Theory to create a new feature and incorporate it into the model. We will then re-run the Random Forest model and compare the results with the benchmark model."
      ],
      "metadata": {
        "noteable": {
          "cell_type": "markdown"
        }
      },
      "id": "20038813-a443-4a97-b098-fd6f3af139bd"
    },
    {
      "cell_type": "code",
      "source": [
        "import pandas as pd\n",
        "import numpy as np\n",
        "from sklearn.model_selection import train_test_split\n",
        "from sklearn.ensemble import RandomForestClassifier\n",
        "from sklearn.metrics import classification_report, confusion_matrix, precision_score, recall_score, f1_score\n",
        "\n",
        "# Load the data\n",
        "df = pd.read_csv('SPY_pre_train.csv', index_col=0)\n",
        "df.head()"
      ],
      "outputs": [
        {
          "output_type": "display_data",
          "data": {
            "application/vnd.dataresource+json": {
              "schema": {
                "fields": [
                  {
                    "name": "index",
                    "type": "integer"
                  },
                  {
                    "name": "Date",
                    "type": "integer"
                  },
                  {
                    "name": "Open",
                    "type": "number"
                  },
                  {
                    "name": "High",
                    "type": "number"
                  },
                  {
                    "name": "Low",
                    "type": "number"
                  },
                  {
                    "name": "Close",
                    "type": "number"
                  },
                  {
                    "name": "Adj Close",
                    "type": "number"
                  },
                  {
                    "name": "Volume",
                    "type": "integer"
                  },
                  {
                    "name": "candlestick_color",
                    "type": "integer"
                  },
                  {
                    "name": "Tomorrow_Open",
                    "type": "number"
                  }
                ],
                "primaryKey": [
                  "index"
                ],
                "pandas_version": "1.4.0"
              },
              "data": [
                {
                  "index": 0,
                  "Date": 0,
                  "Open": 43.96875,
                  "High": 43.96875,
                  "Low": 43.75,
                  "Close": 43.9375,
                  "Adj Close": 25.122337,
                  "Volume": 1003200,
                  "candlestick_color": 0,
                  "Tomorrow_Open": 43.96875
                },
                {
                  "index": 1,
                  "Date": 3,
                  "Open": 43.96875,
                  "High": 44.25,
                  "Low": 43.96875,
                  "Close": 44.25,
                  "Adj Close": 25.301027,
                  "Volume": 480500,
                  "candlestick_color": 1,
                  "Tomorrow_Open": 44.21875
                },
                {
                  "index": 2,
                  "Date": 4,
                  "Open": 44.21875,
                  "High": 44.375,
                  "Low": 44.125,
                  "Close": 44.34375,
                  "Adj Close": 25.354624,
                  "Volume": 201300,
                  "candlestick_color": 1,
                  "Tomorrow_Open": 44.40625
                },
                {
                  "index": 3,
                  "Date": 5,
                  "Open": 44.40625,
                  "High": 44.84375,
                  "Low": 44.375,
                  "Close": 44.8125,
                  "Adj Close": 25.62265,
                  "Volume": 529400,
                  "candlestick_color": 1,
                  "Tomorrow_Open": 44.96875
                },
                {
                  "index": 4,
                  "Date": 6,
                  "Open": 44.96875,
                  "High": 45.09375,
                  "Low": 44.46875,
                  "Close": 45,
                  "Adj Close": 25.729849,
                  "Volume": 531500,
                  "candlestick_color": 1,
                  "Tomorrow_Open": 44.96875
                }
              ],
              "datalink": {
                "display_id": "038179fd-0c9a-4b63-8297-ad809d4940c4"
              }
            }
          },
          "metadata": {
            "application/vnd.dataresource+json": {
              "datalink": {
                "dataframe_info": {
                  "default_index_used": true,
                  "orig_size_bytes": 400,
                  "orig_num_rows": 5,
                  "orig_num_cols": 9,
                  "truncated_string_columns": [],
                  "truncated_size_bytes": 400,
                  "truncated_num_rows": 5,
                  "truncated_num_cols": 9
                },
                "dx_settings": {
                  "NUM_PAST_SAMPLES_TRACKED": 3,
                  "ENABLE_DATALINK": true,
                  "DISPLAY_MODE": "simple",
                  "GENERATE_DEX_METADATA": false,
                  "STRINGIFY_INDEX_VALUES": false,
                  "ALLOW_NOTEABLE_ATTRS": true,
                  "DISPLAY_MAX_COLUMNS": 100,
                  "HTML_TABLE_SCHEMA": false,
                  "SAMPLING_FACTOR": 0.1,
                  "LOG_LEVEL": 30,
                  "ENABLE_ASSIGNMENT": true,
                  "FLATTEN_INDEX_VALUES": false,
                  "DEV_MODE": false,
                  "COLUMN_SAMPLING_METHOD": "outer",
                  "FLATTEN_COLUMN_VALUES": true,
                  "DISPLAY_MAX_ROWS": 50000,
                  "ROW_SAMPLING_METHOD": "random",
                  "RANDOM_STATE": 12648430,
                  "DB_LOCATION": ":memory:",
                  "STRINGIFY_COLUMN_VALUES": true,
                  "SAMPLING_METHOD": "random",
                  "MAX_STRING_LENGTH": 250,
                  "MAX_RENDER_SIZE_BYTES": 104857600,
                  "RESET_INDEX_VALUES": false
                },
                "display_id": "038179fd-0c9a-4b63-8297-ad809d4940c4",
                "applied_filters": [],
                "sample_history": [],
                "sampling_time": "2023-07-31T14:23:13.750882",
                "variable_name": "unk_dataframe_87d80f5546e146bd92ae7276ddd07b8a",
                "user_variable_name": null
              },
              "display_id": "038179fd-0c9a-4b63-8297-ad809d4940c4"
            }
          }
        }
      ],
      "execution_count": null,
      "metadata": {
        "noteable": {
          "cell_type": "python"
        },
        "ExecuteTime": {
          "end_time": "2023-07-31T14:23:13.910126+00:00",
          "start_time": "2023-07-31T14:23:13.677429+00:00"
        },
        "datalink": {
          "4c6b9f9a-e879-48f5-aea2-48c81c5a3f76": {
            "applied_filters": [],
            "dataframe_info": {
              "default_index_used": true,
              "orig_num_cols": 9,
              "orig_num_rows": 5,
              "orig_size_bytes": 400,
              "truncated_num_cols": 9,
              "truncated_num_rows": 5,
              "truncated_size_bytes": 400,
              "truncated_string_columns": []
            },
            "display_id": "4c6b9f9a-e879-48f5-aea2-48c81c5a3f76",
            "dx_settings": {
              "ALLOW_NOTEABLE_ATTRS": true,
              "COLUMN_SAMPLING_METHOD": "outer",
              "DB_LOCATION": ":memory:",
              "DEV_MODE": false,
              "DISPLAY_MAX_COLUMNS": 100,
              "DISPLAY_MAX_ROWS": 50000,
              "DISPLAY_MODE": "simple",
              "ENABLE_ASSIGNMENT": true,
              "ENABLE_DATALINK": true,
              "FLATTEN_COLUMN_VALUES": true,
              "FLATTEN_INDEX_VALUES": false,
              "GENERATE_DEX_METADATA": false,
              "HTML_TABLE_SCHEMA": false,
              "LOG_LEVEL": 30,
              "MAX_RENDER_SIZE_BYTES": 104857600,
              "MAX_STRING_LENGTH": 250,
              "NUM_PAST_SAMPLES_TRACKED": 3,
              "RANDOM_STATE": 12648430,
              "RESET_INDEX_VALUES": false,
              "ROW_SAMPLING_METHOD": "random",
              "SAMPLING_FACTOR": 0.1,
              "SAMPLING_METHOD": "random",
              "STRINGIFY_COLUMN_VALUES": true,
              "STRINGIFY_INDEX_VALUES": false
            },
            "sample_history": [],
            "sampling_time": "2023-07-31T14:16:52.095215",
            "user_variable_name": null,
            "variable_name": "unk_dataframe_8fd0d94007264b56ad0c09af91aa0f6f"
          },
          "5487b245-d942-42c8-9eb9-3f4257bcb1d9": {
            "applied_filters": [],
            "dataframe_info": {
              "default_index_used": true,
              "orig_num_cols": 9,
              "orig_num_rows": 5,
              "orig_size_bytes": 400,
              "truncated_num_cols": 9,
              "truncated_num_rows": 5,
              "truncated_size_bytes": 400,
              "truncated_string_columns": []
            },
            "display_id": "5487b245-d942-42c8-9eb9-3f4257bcb1d9",
            "dx_settings": {
              "ALLOW_NOTEABLE_ATTRS": true,
              "COLUMN_SAMPLING_METHOD": "outer",
              "DB_LOCATION": ":memory:",
              "DEV_MODE": false,
              "DISPLAY_MAX_COLUMNS": 100,
              "DISPLAY_MAX_ROWS": 50000,
              "DISPLAY_MODE": "simple",
              "ENABLE_ASSIGNMENT": true,
              "ENABLE_DATALINK": true,
              "FLATTEN_COLUMN_VALUES": true,
              "FLATTEN_INDEX_VALUES": false,
              "GENERATE_DEX_METADATA": false,
              "HTML_TABLE_SCHEMA": false,
              "LOG_LEVEL": 30,
              "MAX_RENDER_SIZE_BYTES": 104857600,
              "MAX_STRING_LENGTH": 250,
              "NUM_PAST_SAMPLES_TRACKED": 3,
              "RANDOM_STATE": 12648430,
              "RESET_INDEX_VALUES": false,
              "ROW_SAMPLING_METHOD": "random",
              "SAMPLING_FACTOR": 0.1,
              "SAMPLING_METHOD": "random",
              "STRINGIFY_COLUMN_VALUES": true,
              "STRINGIFY_INDEX_VALUES": false
            },
            "sample_history": [],
            "sampling_time": "2023-07-31T14:21:49.796719",
            "user_variable_name": null,
            "variable_name": "unk_dataframe_7fb3c4a1d73d4c90a7dda9e1e529ffae"
          },
          "038179fd-0c9a-4b63-8297-ad809d4940c4": {
            "applied_filters": [],
            "dataframe_info": {
              "default_index_used": true,
              "orig_num_cols": 9,
              "orig_num_rows": 5,
              "orig_size_bytes": 400,
              "truncated_num_cols": 9,
              "truncated_num_rows": 5,
              "truncated_size_bytes": 400,
              "truncated_string_columns": []
            },
            "display_id": "038179fd-0c9a-4b63-8297-ad809d4940c4",
            "dx_settings": {
              "ALLOW_NOTEABLE_ATTRS": true,
              "COLUMN_SAMPLING_METHOD": "outer",
              "DB_LOCATION": ":memory:",
              "DEV_MODE": false,
              "DISPLAY_MAX_COLUMNS": 100,
              "DISPLAY_MAX_ROWS": 50000,
              "DISPLAY_MODE": "simple",
              "ENABLE_ASSIGNMENT": true,
              "ENABLE_DATALINK": true,
              "FLATTEN_COLUMN_VALUES": true,
              "FLATTEN_INDEX_VALUES": false,
              "GENERATE_DEX_METADATA": false,
              "HTML_TABLE_SCHEMA": false,
              "LOG_LEVEL": 30,
              "MAX_RENDER_SIZE_BYTES": 104857600,
              "MAX_STRING_LENGTH": 250,
              "NUM_PAST_SAMPLES_TRACKED": 3,
              "RANDOM_STATE": 12648430,
              "RESET_INDEX_VALUES": false,
              "ROW_SAMPLING_METHOD": "random",
              "SAMPLING_FACTOR": 0.1,
              "SAMPLING_METHOD": "random",
              "STRINGIFY_COLUMN_VALUES": true,
              "STRINGIFY_INDEX_VALUES": false
            },
            "sample_history": [],
            "sampling_time": "2023-07-31T14:23:13.750882",
            "user_variable_name": null,
            "variable_name": "unk_dataframe_87d80f5546e146bd92ae7276ddd07b8a"
          }
        }
      },
      "id": "47d29010-5d26-4eb6-8daf-828208399c0a"
    },
    {
      "cell_type": "markdown",
      "source": [
        "## Feature Engineering Using Bayes Theory\n",
        "\n",
        "We will create a new feature using Bayes Theory. The feature will be the probability of the candlestick color being green given that the previous day's candlestick color was green. This is based on the assumption that the color of the candlestick on a given day may be influenced by the color of the candlestick on the previous day."
      ],
      "metadata": {
        "noteable": {
          "cell_type": "markdown"
        }
      },
      "id": "1035531f-5380-4cf7-aab5-f4f207484e8d"
    },
    {
      "cell_type": "code",
      "source": [
        "\n",
        "# Create a new column 'previous_day_color' that has the color of the previous day's candlestick\n",
        "df['previous_day_color'] = df['candlestick_color'].shift(1)\n",
        "\n",
        "# Drop the first row which has a NaN value in the 'previous_day_color' column\n",
        "df = df.dropna(subset=['previous_day_color'])\n",
        "\n",
        "# Convert the 'previous_day_color' column to int type\n",
        "df['previous_day_color'] = df['previous_day_color'].astype(int)\n",
        "\n",
        "# Calculate the probabilities\n",
        "prob_green_given_green = df[(df['candlestick_color'] == 1) & (df['previous_day_color'] == 1)].shape[0] / df[df['previous_day_color'] == 1].shape[0]\n",
        "prob_red_given_red = df[(df['candlestick_color'] == 0) & (df['previous_day_color'] == 0)].shape[0] / df[df['previous_day_color'] == 0].shape[0]\n",
        "\n",
        "# Create a new column 'prob_color_given_previous' that has the probability of the candlestick color given the previous day's color\n",
        "df['prob_color_given_previous'] = df['previous_day_color'].map({0: prob_red_given_red, 1: prob_green_given_green})\n",
        "df.head()"
      ],
      "outputs": [
        {
          "output_type": "display_data",
          "data": {
            "application/vnd.dataresource+json": {
              "schema": {
                "fields": [
                  {
                    "name": "index",
                    "type": "integer"
                  },
                  {
                    "name": "Date",
                    "type": "integer"
                  },
                  {
                    "name": "Open",
                    "type": "number"
                  },
                  {
                    "name": "High",
                    "type": "number"
                  },
                  {
                    "name": "Low",
                    "type": "number"
                  },
                  {
                    "name": "Close",
                    "type": "number"
                  },
                  {
                    "name": "Adj Close",
                    "type": "number"
                  },
                  {
                    "name": "Volume",
                    "type": "integer"
                  },
                  {
                    "name": "candlestick_color",
                    "type": "integer"
                  },
                  {
                    "name": "Tomorrow_Open",
                    "type": "number"
                  },
                  {
                    "name": "previous_day_color",
                    "type": "integer"
                  },
                  {
                    "name": "prob_color_given_previous",
                    "type": "number"
                  }
                ],
                "primaryKey": [
                  "index"
                ],
                "pandas_version": "1.4.0"
              },
              "data": [
                {
                  "index": 1,
                  "Date": 3,
                  "Open": 43.96875,
                  "High": 44.25,
                  "Low": 43.96875,
                  "Close": 44.25,
                  "Adj Close": 25.301027,
                  "Volume": 480500,
                  "candlestick_color": 1,
                  "Tomorrow_Open": 44.21875,
                  "previous_day_color": 0,
                  "prob_color_given_previous": 0.451216102879508
                },
                {
                  "index": 2,
                  "Date": 4,
                  "Open": 44.21875,
                  "High": 44.375,
                  "Low": 44.125,
                  "Close": 44.34375,
                  "Adj Close": 25.354624,
                  "Volume": 201300,
                  "candlestick_color": 1,
                  "Tomorrow_Open": 44.40625,
                  "previous_day_color": 1,
                  "prob_color_given_previous": 0.5174532940019666
                },
                {
                  "index": 3,
                  "Date": 5,
                  "Open": 44.40625,
                  "High": 44.84375,
                  "Low": 44.375,
                  "Close": 44.8125,
                  "Adj Close": 25.62265,
                  "Volume": 529400,
                  "candlestick_color": 1,
                  "Tomorrow_Open": 44.96875,
                  "previous_day_color": 1,
                  "prob_color_given_previous": 0.5174532940019666
                },
                {
                  "index": 4,
                  "Date": 6,
                  "Open": 44.96875,
                  "High": 45.09375,
                  "Low": 44.46875,
                  "Close": 45,
                  "Adj Close": 25.729849,
                  "Volume": 531500,
                  "candlestick_color": 1,
                  "Tomorrow_Open": 44.96875,
                  "previous_day_color": 1,
                  "prob_color_given_previous": 0.5174532940019666
                },
                {
                  "index": 5,
                  "Date": 7,
                  "Open": 44.96875,
                  "High": 45.0625,
                  "Low": 44.71875,
                  "Close": 44.96875,
                  "Adj Close": 25.711983,
                  "Volume": 492100,
                  "candlestick_color": 1,
                  "Tomorrow_Open": 44.96875,
                  "previous_day_color": 1,
                  "prob_color_given_previous": 0.5174532940019666
                }
              ],
              "datalink": {
                "display_id": "e4bfacbc-d38a-4a2d-b634-6e87ddb64eb0"
              }
            }
          },
          "metadata": {
            "application/vnd.dataresource+json": {
              "datalink": {
                "dataframe_info": {
                  "default_index_used": true,
                  "orig_size_bytes": 480,
                  "orig_num_rows": 5,
                  "orig_num_cols": 11,
                  "truncated_string_columns": [],
                  "truncated_size_bytes": 480,
                  "truncated_num_rows": 5,
                  "truncated_num_cols": 11
                },
                "dx_settings": {
                  "NUM_PAST_SAMPLES_TRACKED": 3,
                  "ENABLE_DATALINK": true,
                  "DISPLAY_MODE": "simple",
                  "GENERATE_DEX_METADATA": false,
                  "STRINGIFY_INDEX_VALUES": false,
                  "ALLOW_NOTEABLE_ATTRS": true,
                  "DISPLAY_MAX_COLUMNS": 100,
                  "HTML_TABLE_SCHEMA": false,
                  "SAMPLING_FACTOR": 0.1,
                  "LOG_LEVEL": 30,
                  "ENABLE_ASSIGNMENT": true,
                  "FLATTEN_INDEX_VALUES": false,
                  "DEV_MODE": false,
                  "COLUMN_SAMPLING_METHOD": "outer",
                  "FLATTEN_COLUMN_VALUES": true,
                  "DISPLAY_MAX_ROWS": 50000,
                  "ROW_SAMPLING_METHOD": "random",
                  "RANDOM_STATE": 12648430,
                  "DB_LOCATION": ":memory:",
                  "STRINGIFY_COLUMN_VALUES": true,
                  "SAMPLING_METHOD": "random",
                  "MAX_STRING_LENGTH": 250,
                  "MAX_RENDER_SIZE_BYTES": 104857600,
                  "RESET_INDEX_VALUES": false
                },
                "display_id": "e4bfacbc-d38a-4a2d-b634-6e87ddb64eb0",
                "applied_filters": [],
                "sample_history": [],
                "sampling_time": "2023-07-31T14:23:18.418894",
                "variable_name": "unk_dataframe_eea2413f638f4f88ae7f8f78c15033c2",
                "user_variable_name": null
              },
              "display_id": "e4bfacbc-d38a-4a2d-b634-6e87ddb64eb0"
            }
          }
        }
      ],
      "execution_count": null,
      "metadata": {
        "noteable": {
          "cell_type": "python"
        },
        "ExecuteTime": {
          "end_time": "2023-07-31T14:23:18.577414+00:00",
          "start_time": "2023-07-31T14:23:18.339813+00:00"
        },
        "datalink": {
          "5e3df1d6-f3f3-4891-906f-99174a575f17": {
            "applied_filters": [],
            "dataframe_info": {
              "default_index_used": true,
              "orig_num_cols": 11,
              "orig_num_rows": 5,
              "orig_size_bytes": 480,
              "truncated_num_cols": 11,
              "truncated_num_rows": 5,
              "truncated_size_bytes": 480,
              "truncated_string_columns": []
            },
            "display_id": "5e3df1d6-f3f3-4891-906f-99174a575f17",
            "dx_settings": {
              "ALLOW_NOTEABLE_ATTRS": true,
              "COLUMN_SAMPLING_METHOD": "outer",
              "DB_LOCATION": ":memory:",
              "DEV_MODE": false,
              "DISPLAY_MAX_COLUMNS": 100,
              "DISPLAY_MAX_ROWS": 50000,
              "DISPLAY_MODE": "simple",
              "ENABLE_ASSIGNMENT": true,
              "ENABLE_DATALINK": true,
              "FLATTEN_COLUMN_VALUES": true,
              "FLATTEN_INDEX_VALUES": false,
              "GENERATE_DEX_METADATA": false,
              "HTML_TABLE_SCHEMA": false,
              "LOG_LEVEL": 30,
              "MAX_RENDER_SIZE_BYTES": 104857600,
              "MAX_STRING_LENGTH": 250,
              "NUM_PAST_SAMPLES_TRACKED": 3,
              "RANDOM_STATE": 12648430,
              "RESET_INDEX_VALUES": false,
              "ROW_SAMPLING_METHOD": "random",
              "SAMPLING_FACTOR": 0.1,
              "SAMPLING_METHOD": "random",
              "STRINGIFY_COLUMN_VALUES": true,
              "STRINGIFY_INDEX_VALUES": false
            },
            "sample_history": [],
            "sampling_time": "2023-07-31T14:21:58.721430",
            "user_variable_name": null,
            "variable_name": "unk_dataframe_be791addc41f485fb6ef6ce0b221e015"
          },
          "e4bfacbc-d38a-4a2d-b634-6e87ddb64eb0": {
            "applied_filters": [],
            "dataframe_info": {
              "default_index_used": true,
              "orig_num_cols": 11,
              "orig_num_rows": 5,
              "orig_size_bytes": 480,
              "truncated_num_cols": 11,
              "truncated_num_rows": 5,
              "truncated_size_bytes": 480,
              "truncated_string_columns": []
            },
            "display_id": "e4bfacbc-d38a-4a2d-b634-6e87ddb64eb0",
            "dx_settings": {
              "ALLOW_NOTEABLE_ATTRS": true,
              "COLUMN_SAMPLING_METHOD": "outer",
              "DB_LOCATION": ":memory:",
              "DEV_MODE": false,
              "DISPLAY_MAX_COLUMNS": 100,
              "DISPLAY_MAX_ROWS": 50000,
              "DISPLAY_MODE": "simple",
              "ENABLE_ASSIGNMENT": true,
              "ENABLE_DATALINK": true,
              "FLATTEN_COLUMN_VALUES": true,
              "FLATTEN_INDEX_VALUES": false,
              "GENERATE_DEX_METADATA": false,
              "HTML_TABLE_SCHEMA": false,
              "LOG_LEVEL": 30,
              "MAX_RENDER_SIZE_BYTES": 104857600,
              "MAX_STRING_LENGTH": 250,
              "NUM_PAST_SAMPLES_TRACKED": 3,
              "RANDOM_STATE": 12648430,
              "RESET_INDEX_VALUES": false,
              "ROW_SAMPLING_METHOD": "random",
              "SAMPLING_FACTOR": 0.1,
              "SAMPLING_METHOD": "random",
              "STRINGIFY_COLUMN_VALUES": true,
              "STRINGIFY_INDEX_VALUES": false
            },
            "sample_history": [],
            "sampling_time": "2023-07-31T14:23:18.418894",
            "user_variable_name": null,
            "variable_name": "unk_dataframe_eea2413f638f4f88ae7f8f78c15033c2"
          }
        }
      },
      "id": "5f6f3e57-e3a3-4da5-8d11-778fcf0edcde"
    },
    {
      "cell_type": "code",
      "source": [
        "# Define the features and the target\n",
        "X = df.drop(['candlestick_color'], axis=1)\n",
        "y = df['candlestick_color']\n",
        "\n",
        "# Split the data into training set and test set\n",
        "X_train, X_test, y_train, y_test = train_test_split(X, y, test_size=0.2, random_state=42)\n",
        "\n",
        "# Initialize the Random Forest Classifier\n",
        "clf = RandomForestClassifier(n_estimators=100, random_state=42)\n",
        "\n",
        "# Fit the model to the training data\n",
        "clf.fit(X_train, y_train)\n",
        "\n",
        "# Make predictions on the test set\n",
        "y_pred = clf.predict(X_test)"
      ],
      "outputs": [],
      "execution_count": null,
      "metadata": {
        "jupyter": {
          "outputs_hidden": false,
          "source_hidden": false
        },
        "noteable": {
          "cell_type": "code"
        },
        "ExecuteTime": {
          "end_time": "2023-07-31T14:23:25.702022+00:00",
          "start_time": "2023-07-31T14:23:22.639024+00:00"
        }
      },
      "id": "ed30c313-c7d2-48c7-b374-dd50d0ed4e73"
    },
    {
      "cell_type": "code",
      "source": [
        "# Load the results of the original model\n",
        "original_model_results = pd.read_csv('original_model_results.csv')\n",
        "print(original_model_results)\n",
        "# Calculate the metrics for the original model\n",
        "original_accuracy = original_model_results['accuracy'].mean()\n",
        "original_precision = original_model_results['precision'].mean()\n",
        "original_recall = original_model_results['recall'].mean()\n",
        "original_f1 = original_model_results['f1-score'].mean()\n",
        "\n",
        "# Calculate the metrics for the PCA model\n",
        "new_feat_accuracy = (y_pred == y_test).mean()\n",
        "new_feat_precision = precision_score(y_test, y_pred, average='weighted')\n",
        "new_feat_recall = recall_score(y_test, y_pred, average='weighted')\n",
        "new_feat_f1 = f1_score(y_test, y_pred, average='weighted')\n",
        "\n",
        "# Compare the metrics\n",
        "metrics_comparison = pd.DataFrame({\n",
        "    'Model': ['Original', 'New Feature'],\n",
        "    'Accuracy': [original_accuracy, new_feat_accuracy],\n",
        "    'Precision': [original_precision, new_feat_precision],\n",
        "    'Recall': [original_recall, new_feat_recall],\n",
        "    'F1-score': [original_f1, new_feat_f1]\n",
        "})\n",
        "\n",
        "metrics_comparison"
      ],
      "outputs": [
        {
          "output_type": "stream",
          "name": "stdout",
          "text": [
            "   accuracy  precision    recall  f1-score\n",
            "0  0.741176   0.758162  0.761847      0.76\n"
          ]
        },
        {
          "output_type": "display_data",
          "data": {
            "application/vnd.dataresource+json": {
              "schema": {
                "fields": [
                  {
                    "name": "index",
                    "type": "integer"
                  },
                  {
                    "name": "Model",
                    "type": "string"
                  },
                  {
                    "name": "Accuracy",
                    "type": "number"
                  },
                  {
                    "name": "Precision",
                    "type": "number"
                  },
                  {
                    "name": "Recall",
                    "type": "number"
                  },
                  {
                    "name": "F1-score",
                    "type": "number"
                  }
                ],
                "primaryKey": [
                  "index"
                ],
                "pandas_version": "1.4.0"
              },
              "data": [
                {
                  "index": 0,
                  "Model": "Original",
                  "Accuracy": 0.7411764705882353,
                  "Precision": 0.7581620314389359,
                  "Recall": 0.7618469015795869,
                  "F1-score": 0.7600000000000001
                },
                {
                  "index": 1,
                  "Model": "New Feature",
                  "Accuracy": 0.7285807717462394,
                  "Precision": 0.7283280639660058,
                  "Recall": 0.7285807717462394,
                  "F1-score": 0.7284016099706074
                }
              ],
              "datalink": {
                "display_id": "878a0771-b7aa-4307-a186-bf2601a11e82"
              }
            }
          },
          "metadata": {
            "application/vnd.dataresource+json": {
              "datalink": {
                "dataframe_info": {
                  "default_index_used": true,
                  "orig_size_bytes": 96,
                  "orig_num_rows": 2,
                  "orig_num_cols": 5,
                  "truncated_string_columns": [],
                  "truncated_size_bytes": 96,
                  "truncated_num_rows": 2,
                  "truncated_num_cols": 5
                },
                "dx_settings": {
                  "NUM_PAST_SAMPLES_TRACKED": 3,
                  "ENABLE_DATALINK": true,
                  "DISPLAY_MODE": "simple",
                  "GENERATE_DEX_METADATA": false,
                  "STRINGIFY_INDEX_VALUES": false,
                  "ALLOW_NOTEABLE_ATTRS": true,
                  "DISPLAY_MAX_COLUMNS": 100,
                  "HTML_TABLE_SCHEMA": false,
                  "SAMPLING_FACTOR": 0.1,
                  "LOG_LEVEL": 30,
                  "ENABLE_ASSIGNMENT": true,
                  "FLATTEN_INDEX_VALUES": false,
                  "DEV_MODE": false,
                  "COLUMN_SAMPLING_METHOD": "outer",
                  "FLATTEN_COLUMN_VALUES": true,
                  "DISPLAY_MAX_ROWS": 50000,
                  "ROW_SAMPLING_METHOD": "random",
                  "RANDOM_STATE": 12648430,
                  "DB_LOCATION": ":memory:",
                  "STRINGIFY_COLUMN_VALUES": true,
                  "SAMPLING_METHOD": "random",
                  "MAX_STRING_LENGTH": 250,
                  "MAX_RENDER_SIZE_BYTES": 104857600,
                  "RESET_INDEX_VALUES": false
                },
                "display_id": "878a0771-b7aa-4307-a186-bf2601a11e82",
                "applied_filters": [],
                "sample_history": [],
                "sampling_time": "2023-07-31T14:23:28.599141",
                "variable_name": "metrics_comparison",
                "user_variable_name": "metrics_comparison"
              },
              "display_id": "878a0771-b7aa-4307-a186-bf2601a11e82"
            }
          }
        }
      ],
      "execution_count": null,
      "metadata": {
        "jupyter": {
          "outputs_hidden": false,
          "source_hidden": false
        },
        "noteable": {
          "cell_type": "code"
        },
        "ExecuteTime": {
          "end_time": "2023-07-31T14:23:28.757139+00:00",
          "start_time": "2023-07-31T14:23:28.526639+00:00"
        },
        "datalink": {
          "878a0771-b7aa-4307-a186-bf2601a11e82": {
            "applied_filters": [],
            "dataframe_info": {
              "default_index_used": true,
              "orig_num_cols": 5,
              "orig_num_rows": 2,
              "orig_size_bytes": 96,
              "truncated_num_cols": 5,
              "truncated_num_rows": 2,
              "truncated_size_bytes": 96,
              "truncated_string_columns": []
            },
            "display_id": "878a0771-b7aa-4307-a186-bf2601a11e82",
            "dx_settings": {
              "ALLOW_NOTEABLE_ATTRS": true,
              "COLUMN_SAMPLING_METHOD": "outer",
              "DB_LOCATION": ":memory:",
              "DEV_MODE": false,
              "DISPLAY_MAX_COLUMNS": 100,
              "DISPLAY_MAX_ROWS": 50000,
              "DISPLAY_MODE": "simple",
              "ENABLE_ASSIGNMENT": true,
              "ENABLE_DATALINK": true,
              "FLATTEN_COLUMN_VALUES": true,
              "FLATTEN_INDEX_VALUES": false,
              "GENERATE_DEX_METADATA": false,
              "HTML_TABLE_SCHEMA": false,
              "LOG_LEVEL": 30,
              "MAX_RENDER_SIZE_BYTES": 104857600,
              "MAX_STRING_LENGTH": 250,
              "NUM_PAST_SAMPLES_TRACKED": 3,
              "RANDOM_STATE": 12648430,
              "RESET_INDEX_VALUES": false,
              "ROW_SAMPLING_METHOD": "random",
              "SAMPLING_FACTOR": 0.1,
              "SAMPLING_METHOD": "random",
              "STRINGIFY_COLUMN_VALUES": true,
              "STRINGIFY_INDEX_VALUES": false
            },
            "sample_history": [],
            "sampling_time": "2023-07-31T14:23:28.599141",
            "user_variable_name": "metrics_comparison",
            "variable_name": "metrics_comparison"
          }
        }
      },
      "id": "ab8710cc-3e30-4e93-835c-17ee95350133"
    },
    {
      "cell_type": "markdown",
      "source": [
        "## Martingale Feature Engineering"
      ],
      "metadata": {
        "noteable": {
          "cell_type": "markdown"
        }
      },
      "id": "50d9e3ad-ff38-44cf-9058-3482bcc53834"
    },
    {
      "cell_type": "markdown",
      "source": [
        "To introduce the concept of martingales into our feature set, we'll create a feature that checks if the stock's price movement over the past few days follows a martingale process. In a martingale process, the expectation of the next value is equal to the current value, regardless of all previous values. In the context of the stock market, a martingale would imply that the future price movement of a stock is independent of its past price movements.\n",
        "\n",
        "For our feature engineering, we'll create a new feature called `martingale_diff` which will be the difference between the expected next value (current value) and the actual next value for the stock's closing price. If the stock's price movement is consistent with a martingale, this difference should be close to zero."
      ],
      "metadata": {
        "noteable": {
          "cell_type": "markdown"
        }
      },
      "id": "4a1bc457-d00f-4f92-a997-17c13f4522eb"
    },
    {
      "cell_type": "code",
      "source": [
        "import pandas as pd\n",
        "\n",
        "# Load the dataset\n",
        "data = pd.read_csv('SPY_pre_train.csv')\n",
        "\n",
        "# Calculate the martingale difference\n",
        "data['martingale_diff'] = data['Close'].diff().shift(-1)\n",
        "data.dropna(inplace=True)\n",
        "# Display the first few rows of the dataset with the new feature\n",
        "data.head()"
      ],
      "outputs": [
        {
          "output_type": "display_data",
          "data": {
            "application/vnd.dataresource+json": {
              "schema": {
                "fields": [
                  {
                    "name": "index",
                    "type": "integer"
                  },
                  {
                    "name": "Unnamed: 0",
                    "type": "integer"
                  },
                  {
                    "name": "Date",
                    "type": "integer"
                  },
                  {
                    "name": "Open",
                    "type": "number"
                  },
                  {
                    "name": "High",
                    "type": "number"
                  },
                  {
                    "name": "Low",
                    "type": "number"
                  },
                  {
                    "name": "Close",
                    "type": "number"
                  },
                  {
                    "name": "Adj Close",
                    "type": "number"
                  },
                  {
                    "name": "Volume",
                    "type": "integer"
                  },
                  {
                    "name": "candlestick_color",
                    "type": "integer"
                  },
                  {
                    "name": "Tomorrow_Open",
                    "type": "number"
                  },
                  {
                    "name": "martingale_diff",
                    "type": "number"
                  }
                ],
                "primaryKey": [
                  "index"
                ],
                "pandas_version": "1.4.0"
              },
              "data": [
                {
                  "index": 0,
                  "Unnamed: 0": 0,
                  "Date": 0,
                  "Open": 43.96875,
                  "High": 43.96875,
                  "Low": 43.75,
                  "Close": 43.9375,
                  "Adj Close": 25.122337,
                  "Volume": 1003200,
                  "candlestick_color": 0,
                  "Tomorrow_Open": 43.96875,
                  "martingale_diff": 0.3125
                },
                {
                  "index": 1,
                  "Unnamed: 0": 1,
                  "Date": 3,
                  "Open": 43.96875,
                  "High": 44.25,
                  "Low": 43.96875,
                  "Close": 44.25,
                  "Adj Close": 25.301027,
                  "Volume": 480500,
                  "candlestick_color": 1,
                  "Tomorrow_Open": 44.21875,
                  "martingale_diff": 0.09375
                },
                {
                  "index": 2,
                  "Unnamed: 0": 2,
                  "Date": 4,
                  "Open": 44.21875,
                  "High": 44.375,
                  "Low": 44.125,
                  "Close": 44.34375,
                  "Adj Close": 25.354624,
                  "Volume": 201300,
                  "candlestick_color": 1,
                  "Tomorrow_Open": 44.40625,
                  "martingale_diff": 0.46875
                },
                {
                  "index": 3,
                  "Unnamed: 0": 3,
                  "Date": 5,
                  "Open": 44.40625,
                  "High": 44.84375,
                  "Low": 44.375,
                  "Close": 44.8125,
                  "Adj Close": 25.62265,
                  "Volume": 529400,
                  "candlestick_color": 1,
                  "Tomorrow_Open": 44.96875,
                  "martingale_diff": 0.1875
                },
                {
                  "index": 4,
                  "Unnamed: 0": 4,
                  "Date": 6,
                  "Open": 44.96875,
                  "High": 45.09375,
                  "Low": 44.46875,
                  "Close": 45,
                  "Adj Close": 25.729849,
                  "Volume": 531500,
                  "candlestick_color": 1,
                  "Tomorrow_Open": 44.96875,
                  "martingale_diff": -0.03125
                }
              ],
              "datalink": {
                "display_id": "da668ca5-a325-465c-adfc-fe474ecd5d42"
              }
            }
          },
          "metadata": {
            "application/vnd.dataresource+json": {
              "datalink": {
                "dataframe_info": {
                  "default_index_used": true,
                  "orig_size_bytes": 480,
                  "orig_num_rows": 5,
                  "orig_num_cols": 11,
                  "truncated_string_columns": [],
                  "truncated_size_bytes": 480,
                  "truncated_num_rows": 5,
                  "truncated_num_cols": 11
                },
                "dx_settings": {
                  "NUM_PAST_SAMPLES_TRACKED": 3,
                  "ENABLE_DATALINK": true,
                  "DISPLAY_MODE": "simple",
                  "GENERATE_DEX_METADATA": false,
                  "STRINGIFY_INDEX_VALUES": false,
                  "ALLOW_NOTEABLE_ATTRS": true,
                  "DISPLAY_MAX_COLUMNS": 100,
                  "HTML_TABLE_SCHEMA": false,
                  "SAMPLING_FACTOR": 0.1,
                  "LOG_LEVEL": 30,
                  "ENABLE_ASSIGNMENT": true,
                  "FLATTEN_INDEX_VALUES": false,
                  "DEV_MODE": false,
                  "COLUMN_SAMPLING_METHOD": "outer",
                  "FLATTEN_COLUMN_VALUES": true,
                  "DISPLAY_MAX_ROWS": 50000,
                  "ROW_SAMPLING_METHOD": "random",
                  "RANDOM_STATE": 12648430,
                  "DB_LOCATION": ":memory:",
                  "STRINGIFY_COLUMN_VALUES": true,
                  "SAMPLING_METHOD": "random",
                  "MAX_STRING_LENGTH": 250,
                  "MAX_RENDER_SIZE_BYTES": 104857600,
                  "RESET_INDEX_VALUES": false
                },
                "display_id": "da668ca5-a325-465c-adfc-fe474ecd5d42",
                "applied_filters": [],
                "sample_history": [],
                "sampling_time": "2023-08-18T14:47:26.816474",
                "variable_name": "unk_dataframe_7abd3ebbf6034575aa76907e7498bdc7",
                "user_variable_name": null
              },
              "display_id": "da668ca5-a325-465c-adfc-fe474ecd5d42"
            }
          }
        }
      ],
      "execution_count": null,
      "metadata": {
        "jupyter": {
          "source_hidden": false,
          "outputs_hidden": false
        },
        "noteable": {
          "cell_type": "python"
        },
        "ExecuteTime": {
          "start_time": "2023-08-18T14:47:26.539399+00:00",
          "end_time": "2023-08-18T14:47:26.984782+00:00"
        },
        "datalink": {
          "58c48625-f86a-47b4-8273-c728b1bf1365": {
            "dataframe_info": {
              "default_index_used": true,
              "orig_size_bytes": 480,
              "orig_num_rows": 5,
              "orig_num_cols": 11,
              "truncated_string_columns": [],
              "truncated_size_bytes": 480,
              "truncated_num_rows": 5,
              "truncated_num_cols": 11
            },
            "dx_settings": {
              "LOG_LEVEL": 30,
              "DEV_MODE": false,
              "DISPLAY_MAX_ROWS": 50000,
              "DISPLAY_MAX_COLUMNS": 100,
              "HTML_TABLE_SCHEMA": false,
              "MAX_RENDER_SIZE_BYTES": 104857600,
              "MAX_STRING_LENGTH": 250,
              "SAMPLING_FACTOR": 0.1,
              "DISPLAY_MODE": "simple",
              "SAMPLING_METHOD": "random",
              "COLUMN_SAMPLING_METHOD": "outer",
              "ROW_SAMPLING_METHOD": "random",
              "RANDOM_STATE": 12648430,
              "RESET_INDEX_VALUES": false,
              "FLATTEN_INDEX_VALUES": false,
              "FLATTEN_COLUMN_VALUES": true,
              "STRINGIFY_INDEX_VALUES": false,
              "STRINGIFY_COLUMN_VALUES": true,
              "ENABLE_DATALINK": true,
              "ENABLE_ASSIGNMENT": true,
              "NUM_PAST_SAMPLES_TRACKED": 3,
              "DB_LOCATION": ":memory:",
              "GENERATE_DEX_METADATA": false,
              "ALLOW_NOTEABLE_ATTRS": true
            },
            "display_id": "58c48625-f86a-47b4-8273-c728b1bf1365",
            "applied_filters": [],
            "sample_history": [],
            "sampling_time": "2023-08-18T14:46:27.564258",
            "variable_name": "unk_dataframe_cd6ea62d23e54569a2f5c673eecdc37b",
            "user_variable_name": null
          },
          "da668ca5-a325-465c-adfc-fe474ecd5d42": {
            "dataframe_info": {
              "default_index_used": true,
              "orig_size_bytes": 480,
              "orig_num_rows": 5,
              "orig_num_cols": 11,
              "truncated_string_columns": [],
              "truncated_size_bytes": 480,
              "truncated_num_rows": 5,
              "truncated_num_cols": 11
            },
            "dx_settings": {
              "LOG_LEVEL": 30,
              "DEV_MODE": false,
              "DISPLAY_MAX_ROWS": 50000,
              "DISPLAY_MAX_COLUMNS": 100,
              "HTML_TABLE_SCHEMA": false,
              "MAX_RENDER_SIZE_BYTES": 104857600,
              "MAX_STRING_LENGTH": 250,
              "SAMPLING_FACTOR": 0.1,
              "DISPLAY_MODE": "simple",
              "SAMPLING_METHOD": "random",
              "COLUMN_SAMPLING_METHOD": "outer",
              "ROW_SAMPLING_METHOD": "random",
              "RANDOM_STATE": 12648430,
              "RESET_INDEX_VALUES": false,
              "FLATTEN_INDEX_VALUES": false,
              "FLATTEN_COLUMN_VALUES": true,
              "STRINGIFY_INDEX_VALUES": false,
              "STRINGIFY_COLUMN_VALUES": true,
              "ENABLE_DATALINK": true,
              "ENABLE_ASSIGNMENT": true,
              "NUM_PAST_SAMPLES_TRACKED": 3,
              "DB_LOCATION": ":memory:",
              "GENERATE_DEX_METADATA": false,
              "ALLOW_NOTEABLE_ATTRS": true
            },
            "display_id": "da668ca5-a325-465c-adfc-fe474ecd5d42",
            "applied_filters": [],
            "sample_history": [],
            "sampling_time": "2023-08-18T14:47:26.816474",
            "variable_name": "unk_dataframe_7abd3ebbf6034575aa76907e7498bdc7",
            "user_variable_name": null
          }
        }
      },
      "id": "0ddf5f98-bf32-466c-8fcf-5dbc730b9702"
    },
    {
      "cell_type": "markdown",
      "source": [
        "Now that we have our `martingale_diff` feature, we'll integrate it into our model and retrain it. After training, we'll evaluate the model's performance with this new feature and compare it to the previous metrics."
      ],
      "metadata": {
        "noteable": {
          "cell_type": "markdown"
        }
      },
      "id": "cf295850-989b-4576-bf63-cfd4903bff1b"
    },
    {
      "cell_type": "code",
      "source": [
        "from sklearn.ensemble import RandomForestClassifier\n",
        "from sklearn.model_selection import train_test_split\n",
        "from sklearn.metrics import accuracy_score, precision_score, recall_score, f1_score\n",
        "\n",
        "# Splitting the data into training and testing sets\n",
        "X = data.drop(['candlestick_color'], axis=1)\n",
        "y = data['candlestick_color']\n",
        "X_train, X_test, y_train, y_test = train_test_split(X, y, test_size=0.2, random_state=42)\n",
        "\n",
        "# Training the model\n",
        "clf = RandomForestClassifier()\n",
        "clf.fit(X_train, y_train)\n",
        "\n",
        "# Making predictions\n",
        "y_pred = clf.predict(X_test)\n",
        "\n",
        "# Evaluating the model\n",
        "accuracy = accuracy_score(y_test, y_pred)\n",
        "precision = precision_score(y_test, y_pred)\n",
        "recall = recall_score(y_test, y_pred)\n",
        "f1 = f1_score(y_test, y_pred)\n",
        "\n",
        "accuracy, precision, recall, f1"
      ],
      "outputs": [
        {
          "output_type": "execute_result",
          "execution_count": null,
          "data": {
            "text/plain": "(0.6723348593852191, 0.6814988290398126, 0.717632552404439, 0.6990990990990992)"
          },
          "metadata": {}
        }
      ],
      "execution_count": null,
      "metadata": {
        "jupyter": {
          "source_hidden": false,
          "outputs_hidden": false
        },
        "noteable": {
          "cell_type": "python"
        },
        "ExecuteTime": {
          "start_time": "2023-08-18T14:47:30.659358+00:00",
          "end_time": "2023-08-18T14:47:33.906455+00:00"
        }
      },
      "id": "7a27eb0c-9617-4cab-8573-1c79bf3dd4fd"
    },
    {
      "cell_type": "markdown",
      "source": [
        "After evaluating the model with the new `martingale_diff` feature, we can compare the metrics to the previous model's metrics to determine the impact of this feature on the model's performance. If the metrics have improved, it indicates that the feature has added valuable information to the model. If the metrics have decreased or remained the same, it suggests that the feature may not be as informative for the prediction task at hand."
      ],
      "metadata": {
        "noteable": {
          "cell_type": "markdown"
        }
      },
      "id": "421c9fa8-7861-4caa-a373-b6571acf2a50"
    },
    {
      "cell_type": "markdown",
      "source": [
        "## Markov Chain Feature Engineering\n",
        "\n",
        "### Idea Behind the Addition\n",
        "Markov Chains are used to model systems that follow the Markov property, where the future state depends only on the current state and not on the sequence of states that preceded it. In the context of the stock market, we can use Markov Chains to model the transition probabilities between different states of the market (e.g., bullish or bearish days based on candlestick colors).\n",
        "\n",
        "By creating a transition matrix, we can capture the probabilities of moving from one state to another. This can be a powerful feature as it encapsulates the market's momentum and its likelihood to remain in its current state or transition to another.\n",
        "\n",
        "### Transition Matrix\n",
        "The transition matrix computed above shows the probability of transitioning from one state (candle color) to another. For instance, the probability of transitioning from a green (bullish) day to another green day is approximately 0.517, while the probability of transitioning from a green day to a red (bearish) day is approximately 0.483.\n",
        "\n",
        "Next, we'll use this transition matrix to create a new feature for our dataset and then retrain the model to evaluate its impact."
      ],
      "metadata": {
        "noteable": {
          "cell_type": "markdown"
        }
      },
      "id": "cd58fa81-38e9-476c-98a7-a9f177055545"
    },
    {
      "cell_type": "code",
      "source": [
        "# Load the dataset\n",
        "df = pd.read_csv('SPY_pre_train.csv')\n",
        "\n",
        "# Create a new feature for candlestick color based on close and open prices\n",
        "df['candle_color'] = np.where(df['Close'] >= df['Open'], 'green', 'red')\n",
        "\n",
        "# Create a transition matrix for the Markov Chain\n",
        "transition_matrix = pd.crosstab(df['candle_color'], df['candle_color'].shift(-1), normalize='index')\n",
        "transition_matrix"
      ],
      "outputs": [],
      "execution_count": null,
      "metadata": {
        "jupyter": {
          "source_hidden": false,
          "outputs_hidden": false
        },
        "noteable": {
          "cell_type": "python"
        }
      },
      "id": "4ef768e6-4c2b-4182-86c0-efd0222f647c"
    },
    {
      "cell_type": "code",
      "source": [
        "# Handle NaN values in the transition_prob column by filling with the mean value\n",
        "df['transition_prob'].fillna(df['transition_prob'].mean(), inplace=True)\n",
        "\n",
        "# Split the dataset into training and testing sets again\n",
        "X = df.drop(columns=['Date', 'Close'])\n",
        "y = df['Close']\n",
        "X_train, X_test, y_train, y_test = train_test_split(X, y, test_size=0.2, random_state=42, shuffle=False)\n",
        "\n",
        "# Train the Random Forest model with the new feature\n",
        "rf_model_markov = RandomForestRegressor(n_estimators=100, random_state=42)\n",
        "rf_model_markov.fit(X_train, y_train)\n",
        "\n",
        "# Predict on the test set\n",
        "y_pred_markov = rf_model_markov.predict(X_test)\n",
        "\n",
        "# Calculate metrics\n",
        "mse_markov = mean_squared_error(y_test, y_pred_markov)\n",
        "mae_markov = mean_absolute_error(y_test, y_pred_markov)\n",
        "r2_markov = r2_score(y_test, y_pred_markov)\n",
        "\n",
        "mse_markov, mae_markov, r2_markov"
      ],
      "outputs": [],
      "execution_count": null,
      "metadata": {
        "jupyter": {
          "source_hidden": false,
          "outputs_hidden": false
        },
        "noteable": {
          "cell_type": "code"
        }
      },
      "id": "5efe12c4-b04a-4301-9c92-b1ef9e718c37"
    },
    {
      "cell_type": "markdown",
      "source": [
        "## Comparison of Metrics with Original Model\n",
        "\n",
        "Let's compare the metrics of the model with the Markov Chain-based feature to the original model's metrics to understand the impact of our feature engineering.\n",
        "\n",
        "| Metric | Original Model | Model with Markov Chain Feature |\n",
        "|--------|----------------|---------------------------------|\n",
        "| MSE   | 144.98         | 14688.79                        |\n",
        "| MAE   | 9.86           | 99.36                           |\n",
        "| R2    | 0.987          | -2.044                          |\n",
        "\n",
        "From the table above, we can observe that the model's performance has deteriorated with the addition of the Markov Chain-based feature. The MSE and MAE have increased significantly, and the R2 score has turned negative. This suggests that while the Markov Chain concept is powerful, its application as a feature in this specific context might not be beneficial. It's essential to experiment and validate features before deploying them in a production model."
      ],
      "metadata": {
        "noteable": {
          "cell_type": "markdown"
        }
      },
      "id": "bc50f4ef-3390-43db-959c-a0abfd90b0c3"
    },
    {
      "cell_type": "markdown",
      "source": [
        "# NOTE:\n",
        "\n",
        "-------------\n",
        "Below, we work on factors affecting the executing of our model in terms of time complexity, readibility, etc.\n"
      ],
      "metadata": {
        "noteable": {
          "cell_type": "markdown"
        }
      },
      "id": "a9867a23-1ba8-4fd8-a01b-22e1546c7f08"
    },
    {
      "cell_type": "markdown",
      "source": [
        "# Use of OOP\n",
        "In this section, we will use the concepts of C++ programming language to enhance the initial model. Although we can't directly use C++ in a Python notebook, we can use the concepts of C++ to write better Python code. In particular, we will use the concept of classes and objects to create a more structured and organized code.\n",
        "\n",
        "Let's start by loading the initial model and the dataset."
      ],
      "metadata": {
        "noteable": {
          "cell_type": "markdown"
        }
      },
      "id": "c34b4df9-fddc-45ee-a154-98c2db292da5"
    },
    {
      "cell_type": "code",
      "source": [
        "import pandas as pd\n",
        "from sklearn.ensemble import RandomForestClassifier\n",
        "from sklearn.metrics import confusion_matrix\n",
        "from sklearn.model_selection import train_test_split\n",
        "\n",
        "# Load the dataset\n",
        "data = pd.read_csv('SPY_pre_train.csv', index_col=0)\n",
        "data.head()"
      ],
      "outputs": [
        {
          "output_type": "display_data",
          "data": {
            "application/vnd.dataresource+json": {
              "schema": {
                "fields": [
                  {
                    "name": "index",
                    "type": "integer"
                  },
                  {
                    "name": "Date",
                    "type": "integer"
                  },
                  {
                    "name": "Open",
                    "type": "number"
                  },
                  {
                    "name": "High",
                    "type": "number"
                  },
                  {
                    "name": "Low",
                    "type": "number"
                  },
                  {
                    "name": "Close",
                    "type": "number"
                  },
                  {
                    "name": "Adj Close",
                    "type": "number"
                  },
                  {
                    "name": "Volume",
                    "type": "integer"
                  },
                  {
                    "name": "candlestick_color",
                    "type": "integer"
                  },
                  {
                    "name": "Tomorrow_Open",
                    "type": "number"
                  }
                ],
                "primaryKey": [
                  "index"
                ],
                "pandas_version": "1.4.0"
              },
              "data": [
                {
                  "index": 0,
                  "Date": 0,
                  "Open": 43.96875,
                  "High": 43.96875,
                  "Low": 43.75,
                  "Close": 43.9375,
                  "Adj Close": 25.122337,
                  "Volume": 1003200,
                  "candlestick_color": 0,
                  "Tomorrow_Open": 43.96875
                },
                {
                  "index": 1,
                  "Date": 3,
                  "Open": 43.96875,
                  "High": 44.25,
                  "Low": 43.96875,
                  "Close": 44.25,
                  "Adj Close": 25.301027,
                  "Volume": 480500,
                  "candlestick_color": 1,
                  "Tomorrow_Open": 44.21875
                },
                {
                  "index": 2,
                  "Date": 4,
                  "Open": 44.21875,
                  "High": 44.375,
                  "Low": 44.125,
                  "Close": 44.34375,
                  "Adj Close": 25.354624,
                  "Volume": 201300,
                  "candlestick_color": 1,
                  "Tomorrow_Open": 44.40625
                },
                {
                  "index": 3,
                  "Date": 5,
                  "Open": 44.40625,
                  "High": 44.84375,
                  "Low": 44.375,
                  "Close": 44.8125,
                  "Adj Close": 25.62265,
                  "Volume": 529400,
                  "candlestick_color": 1,
                  "Tomorrow_Open": 44.96875
                },
                {
                  "index": 4,
                  "Date": 6,
                  "Open": 44.96875,
                  "High": 45.09375,
                  "Low": 44.46875,
                  "Close": 45,
                  "Adj Close": 25.729849,
                  "Volume": 531500,
                  "candlestick_color": 1,
                  "Tomorrow_Open": 44.96875
                }
              ],
              "datalink": {
                "display_id": "97ecce92-337f-4571-88d3-a9bf7b4c815b"
              }
            }
          },
          "metadata": {
            "application/vnd.dataresource+json": {
              "datalink": {
                "dataframe_info": {
                  "default_index_used": true,
                  "orig_size_bytes": 400,
                  "orig_num_rows": 5,
                  "orig_num_cols": 9,
                  "truncated_string_columns": [],
                  "truncated_size_bytes": 400,
                  "truncated_num_rows": 5,
                  "truncated_num_cols": 9
                },
                "dx_settings": {
                  "NUM_PAST_SAMPLES_TRACKED": 3,
                  "ENABLE_DATALINK": true,
                  "DISPLAY_MODE": "simple",
                  "GENERATE_DEX_METADATA": false,
                  "STRINGIFY_INDEX_VALUES": false,
                  "ALLOW_NOTEABLE_ATTRS": true,
                  "DISPLAY_MAX_COLUMNS": 100,
                  "HTML_TABLE_SCHEMA": false,
                  "SAMPLING_FACTOR": 0.1,
                  "LOG_LEVEL": 30,
                  "ENABLE_ASSIGNMENT": true,
                  "FLATTEN_INDEX_VALUES": false,
                  "DEV_MODE": false,
                  "COLUMN_SAMPLING_METHOD": "outer",
                  "FLATTEN_COLUMN_VALUES": true,
                  "DISPLAY_MAX_ROWS": 50000,
                  "ROW_SAMPLING_METHOD": "random",
                  "RANDOM_STATE": 12648430,
                  "DB_LOCATION": ":memory:",
                  "STRINGIFY_COLUMN_VALUES": true,
                  "SAMPLING_METHOD": "random",
                  "MAX_STRING_LENGTH": 250,
                  "MAX_RENDER_SIZE_BYTES": 104857600,
                  "RESET_INDEX_VALUES": false
                },
                "display_id": "97ecce92-337f-4571-88d3-a9bf7b4c815b",
                "applied_filters": [],
                "sample_history": [],
                "sampling_time": "2023-07-31T18:24:58.063604",
                "variable_name": "unk_dataframe_9c83294a1cf54be4a5d1db889b111c33",
                "user_variable_name": null
              },
              "display_id": "97ecce92-337f-4571-88d3-a9bf7b4c815b"
            }
          }
        }
      ],
      "execution_count": null,
      "metadata": {
        "noteable": {
          "cell_type": "python"
        },
        "ExecuteTime": {
          "end_time": "2023-07-31T18:24:58.221400+00:00",
          "start_time": "2023-07-31T18:24:57.493757+00:00"
        },
        "datalink": {
          "97ecce92-337f-4571-88d3-a9bf7b4c815b": {
            "applied_filters": [],
            "dataframe_info": {
              "default_index_used": true,
              "orig_num_cols": 9,
              "orig_num_rows": 5,
              "orig_size_bytes": 400,
              "truncated_num_cols": 9,
              "truncated_num_rows": 5,
              "truncated_size_bytes": 400,
              "truncated_string_columns": []
            },
            "display_id": "97ecce92-337f-4571-88d3-a9bf7b4c815b",
            "dx_settings": {
              "ALLOW_NOTEABLE_ATTRS": true,
              "COLUMN_SAMPLING_METHOD": "outer",
              "DB_LOCATION": ":memory:",
              "DEV_MODE": false,
              "DISPLAY_MAX_COLUMNS": 100,
              "DISPLAY_MAX_ROWS": 50000,
              "DISPLAY_MODE": "simple",
              "ENABLE_ASSIGNMENT": true,
              "ENABLE_DATALINK": true,
              "FLATTEN_COLUMN_VALUES": true,
              "FLATTEN_INDEX_VALUES": false,
              "GENERATE_DEX_METADATA": false,
              "HTML_TABLE_SCHEMA": false,
              "LOG_LEVEL": 30,
              "MAX_RENDER_SIZE_BYTES": 104857600,
              "MAX_STRING_LENGTH": 250,
              "NUM_PAST_SAMPLES_TRACKED": 3,
              "RANDOM_STATE": 12648430,
              "RESET_INDEX_VALUES": false,
              "ROW_SAMPLING_METHOD": "random",
              "SAMPLING_FACTOR": 0.1,
              "SAMPLING_METHOD": "random",
              "STRINGIFY_COLUMN_VALUES": true,
              "STRINGIFY_INDEX_VALUES": false
            },
            "sample_history": [],
            "sampling_time": "2023-07-31T18:24:58.063604",
            "user_variable_name": null,
            "variable_name": "unk_dataframe_9c83294a1cf54be4a5d1db889b111c33"
          }
        }
      },
      "id": "02837917-11bd-4683-bd94-6273af1f2e5d"
    },
    {
      "cell_type": "markdown",
      "source": [
        "Let's define a class `Model` that will encapsulate the logic of our model. This class will have methods to train the model, make predictions, and evaluate the model. This is similar to how we would structure our code in C++."
      ],
      "metadata": {
        "noteable": {
          "cell_type": "markdown"
        }
      },
      "id": "5a264455-6037-4881-b457-011e8cd6a9a2"
    },
    {
      "cell_type": "code",
      "source": [
        "class Model:\n",
        "    def __init__(self):\n",
        "        self.model = RandomForestClassifier()\n",
        "\n",
        "    def train(self, X_train, y_train):\n",
        "        self.model.fit(X_train, y_train)\n",
        "\n",
        "    def predict(self, X):\n",
        "        return self.model.predict(X)\n",
        "\n",
        "    def evaluate(self, X, y):\n",
        "        y_pred = self.predict(X)\n",
        "        cm = confusion_matrix(y, y_pred)\n",
        "        return cm"
      ],
      "outputs": [],
      "execution_count": null,
      "metadata": {
        "noteable": {
          "cell_type": "python"
        },
        "ExecuteTime": {
          "end_time": "2023-07-31T18:25:43.887797+00:00",
          "start_time": "2023-07-31T18:25:43.729807+00:00"
        }
      },
      "id": "8f76720f-9a1d-4c29-9cdb-7fdd3bd95d5d"
    },
    {
      "cell_type": "code",
      "source": [
        "# Split the data into training and test sets\n",
        "X = data.drop('candlestick_color', axis=1)\n",
        "y = data['candlestick_color']\n",
        "X_train, X_test, y_train, y_test = train_test_split(X, y, test_size=0.2, random_state=42)\n",
        "\n",
        "# Create and train the model\n",
        "model = Model()\n",
        "model.train(X_train, y_train)"
      ],
      "outputs": [],
      "execution_count": null,
      "metadata": {
        "jupyter": {
          "outputs_hidden": false,
          "source_hidden": false
        },
        "noteable": {
          "cell_type": "code"
        },
        "ExecuteTime": {
          "end_time": "2023-07-31T18:27:18.912467+00:00",
          "start_time": "2023-07-31T18:27:16.330042+00:00"
        }
      },
      "id": "04e008e6-7bdb-41e1-bff5-e58de01d610c"
    },
    {
      "cell_type": "code",
      "source": [
        "cm = model.evaluate(X_test, y_test)\n",
        "cm"
      ],
      "outputs": [
        {
          "output_type": "execute_result",
          "execution_count": null,
          "data": {
            "text/plain": "array([[511, 196],\n       [202, 621]])"
          },
          "metadata": {}
        }
      ],
      "execution_count": null,
      "metadata": {
        "jupyter": {
          "outputs_hidden": false,
          "source_hidden": false
        },
        "noteable": {
          "cell_type": "code"
        },
        "ExecuteTime": {
          "end_time": "2023-07-31T18:27:23.055557+00:00",
          "start_time": "2023-07-31T18:27:22.838757+00:00"
        }
      },
      "id": "c3d15c26-736f-4f86-91f5-287292415337"
    },
    {
      "cell_type": "markdown",
      "source": [
        "# Using Different Data Structures for Our Model\n"
      ],
      "metadata": {
        "noteable": {
          "cell_type": "markdown"
        }
      },
      "id": "0b04e0e5-9953-430e-8846-3526b015678d"
    },
    {
      "cell_type": "markdown",
      "source": [
        "## Dynamic Arrays\n",
        "Let's start by applying dynamic arrays to the existing features and analyze the execution time performance. We'll also explain the Big O notation for the operations performed."
      ],
      "metadata": {
        "noteable": {
          "cell_type": "markdown"
        }
      },
      "id": "4f1c5264-a5e3-4dd8-8a3e-d70004ad1a96"
    },
    {
      "cell_type": "code",
      "source": [
        "import pandas as pd\n",
        "import numpy as np\n",
        "from array import array\n",
        "import timeit\n",
        "import pandas as pd\n",
        "import numpy as np\n",
        "from sklearn.model_selection import train_test_split\n",
        "from sklearn.ensemble import RandomForestClassifier\n",
        "from sklearn.metrics import classification_report, confusion_matrix, precision_score, recall_score, f1_score\n",
        "\n",
        "# Load the dataset\n",
        "\n",
        "data = pd.read_csv('SPY_pre_train.csv')\n",
        "\n",
        "data.dropna(inplace=True)\n",
        "\n",
        "# Feature Engineering\n",
        "data['Open-Close'] = data['Open'] - data['Close']\n",
        "data['High-Low'] = data['High'] - data['Low']\n",
        "data = data.dropna()\n",
        "X = data[['Open-Close', 'High-Low']]\n",
        "Y = np.where(data['Close'].shift(-1) > data['Close'], 1, -1)\n",
        "\n",
        "# Splitting the dataset\n",
        "split_percentage = 0.7\n",
        "split = int(split_percentage*len(data))\n",
        "X_train = X[:split]\n",
        "Y_train = Y[:split]\n",
        "\n",
        "# Using dynamic array to store the features\n",
        "dynamic_array_features = array('d', X_train.iloc[0])\n",
        "\n",
        "# Function to append features using dynamic array\n",
        "def append_features_dynamic_array():\n",
        "    for i in range(len(X_train)):\n",
        "        dynamic_array_features.append(X_train.iloc[i, 0])\n",
        "        dynamic_array_features.append(X_train.iloc[i, 1])\n",
        "\n",
        "# Measuring time taken to append features using dynamic array\n",
        "time_dynamic_array = %timeit -o append_features_dynamic_array()"
      ],
      "outputs": [
        {
          "output_type": "stream",
          "name": "stdout",
          "text": [
            "370 ms ± 9.56 ms per loop (mean ± std. dev. of 7 runs, 1 loop each)\n"
          ]
        }
      ],
      "execution_count": null,
      "metadata": {
        "noteable": {
          "cell_type": "python"
        },
        "ExecuteTime": {
          "end_time": "2023-08-11T20:27:03.166626+00:00",
          "start_time": "2023-08-11T20:26:59.436034+00:00"
        }
      },
      "id": "e0054681-ca4e-4a96-8c7f-0dd2787b5e88"
    },
    {
      "cell_type": "code",
      "source": [
        "# Using Python list to store the features\n",
        "list_features = list(X_train.iloc[0])\n",
        "\n",
        "# Function to append features using Python list\n",
        "def append_features_list():\n",
        "    for i in range(len(X_train)):\n",
        "        list_features.append(X_train.iloc[i, 0])\n",
        "        list_features.append(X_train.iloc[i, 1])\n",
        "\n",
        "# Measuring time taken to append features using Python list\n",
        "time_list = %timeit -o append_features_list()\n",
        "\n",
        "time_dynamic_array, time_list"
      ],
      "outputs": [
        {
          "output_type": "stream",
          "name": "stdout",
          "text": [
            "374 ms ± 8.71 ms per loop (mean ± std. dev. of 7 runs, 1 loop each)\n"
          ]
        },
        {
          "output_type": "execute_result",
          "execution_count": null,
          "data": {
            "text/plain": "(<TimeitResult : 370 ms ± 9.56 ms per loop (mean ± std. dev. of 7 runs, 1 loop each)>,\n <TimeitResult : 374 ms ± 8.71 ms per loop (mean ± std. dev. of 7 runs, 1 loop each)>)"
          },
          "metadata": {}
        }
      ],
      "execution_count": null,
      "metadata": {
        "noteable": {
          "cell_type": "python"
        },
        "ExecuteTime": {
          "end_time": "2023-08-11T20:27:29.854742+00:00",
          "start_time": "2023-08-11T20:27:26.677345+00:00"
        }
      },
      "id": "2407583b-d0c9-4a63-ac22-26eee38a5d24"
    },
    {
      "cell_type": "markdown",
      "source": [
        "From the table above, we can observe the execution time performance of each data structure when applied to the existing features. Here's a brief explanation of the Big O notation for the operations we performed:\n",
        "\n",
        "- **Dynamic Array**: The average time complexity for append operations is O(1). However, in the worst case (when resizing is needed), the time complexity can be O(n).\n",
        "- **Stack**: Stacks provide O(1) time complexity for both push and pop operations.\n",
        "- **Queue**: Queues provide O(1) time complexity for both enqueue and dequeue operations.\n",
        "- **Deque**: Deques provide O(1) time complexity for append and pop operations from both ends.\n",
        "- **Linked List**: Linked lists provide O(1) time complexity for append operations at the end if we maintain a tail pointer, but O(n) if we traverse from the head each time. They also provide O(1) time complexity for insertions at the beginning.\n",
        "\n",
        "It's essential to choose the right data structure based on the specific requirements of the task at hand, as the choice can significantly impact performance."
      ],
      "metadata": {
        "noteable": {
          "cell_type": "markdown"
        }
      },
      "id": "f4d4ec2b-8d18-423d-988c-aefa6c0a077e"
    },
    {
      "cell_type": "markdown",
      "source": [
        "## Stacks/Queues/Deques in Feature Engineering\n",
        "Now, we'll apply stacks to the existing features and analyze the execution time performance. We'll also explain the Big O notation for the operations performed."
      ],
      "metadata": {
        "noteable": {
          "cell_type": "markdown"
        }
      },
      "id": "87faacfa-8749-4766-ab62-62d884cf31b3"
    },
    {
      "cell_type": "code",
      "source": [
        "import numpy as np\n",
        "from array import array\n",
        "import timeit\n",
        "import pandas as pd\n",
        "import numpy as np\n",
        "from sklearn.model_selection import train_test_split\n",
        "from sklearn.ensemble import RandomForestClassifier\n",
        "from sklearn.metrics import classification_report, confusion_matrix, precision_score, recall_score, f1_score\n",
        "\n",
        "# Load the dataset\n",
        "\n",
        "data = pd.read_csv('SPY_pre_train.csv')\n",
        "\n",
        "data.dropna(inplace=True)\n",
        "\n",
        "# Feature Engineering\n",
        "data['Open-Close'] = data['Open'] - data['Close']\n",
        "data['High-Low'] = data['High'] - data['Low']\n",
        "data = data.dropna()\n",
        "X = data[['Open-Close', 'High-Low']]\n",
        "Y = np.where(data['Close'].shift(-1) > data['Close'], 1, -1)\n",
        "\n",
        "# Splitting the dataset\n",
        "split_percentage = 0.7\n",
        "split = int(split_percentage*len(data))\n",
        "X_train = X[:split]\n",
        "Y_train = Y[:split]"
      ],
      "outputs": [],
      "execution_count": null,
      "metadata": {
        "jupyter": {
          "outputs_hidden": false,
          "source_hidden": false
        },
        "noteable": {
          "cell_type": "code"
        },
        "ExecuteTime": {
          "end_time": "2023-08-11T20:31:29.396732+00:00",
          "start_time": "2023-08-11T20:31:29.219413+00:00"
        }
      },
      "id": "3f9c3e99-87ec-4860-9d58-c542b72973de"
    },
    {
      "cell_type": "code",
      "source": [
        "from collections import deque\n",
        "# Using a stack to compute a moving average\n",
        "def moving_average_with_stack(data, window_size):\n",
        "    if not data or window_size <= 0:\n",
        "        return []\n",
        "    if window_size > len(data):\n",
        "        return [sum(data) / len(data)]\n",
        "\n",
        "    moving_averages = []\n",
        "    stack = deque()\n",
        "    current_sum = 0\n",
        "\n",
        "    for i in range(len(data)):\n",
        "        if len(stack) < window_size:\n",
        "            current_sum += data[i]\n",
        "            stack.append(data[i])\n",
        "        else:\n",
        "            moving_averages.append(current_sum / window_size)\n",
        "            current_sum -= stack.popleft()\n",
        "            current_sum += data[i]\n",
        "            stack.append(data[i])\n",
        "\n",
        "    moving_averages.append(current_sum / window_size)\n",
        "    return moving_averages\n",
        "# Using a simple loop to compute a moving average\n",
        "def moving_average_simple(data, window_size):\n",
        "    if not data or window_size <= 0:\n",
        "        return []\n",
        "    if window_size > len(data):\n",
        "        return [sum(data) / len(data)]\n",
        "\n",
        "    moving_averages = []\n",
        "    for i in range(len(data) - window_size + 1):\n",
        "        current_sum = sum(data[i:i+window_size])\n",
        "        moving_averages.append(current_sum / window_size)\n",
        "    return moving_averages\n",
        "# Generating a sample feature\n",
        "sample_feature = X_train['Open-Close'].tolist()\n",
        "window_size = 5\n",
        "# Time comparison\n",
        "print('Using Stack:')\n",
        "%timeit moving_average_with_stack(sample_feature, window_size)\n",
        "print('\\nUsing Simple Loop:')\n",
        "%timeit moving_average_simple(sample_feature, window_size)"
      ],
      "outputs": [
        {
          "output_type": "stream",
          "name": "stdout",
          "text": [
            "Using Stack:\n"
          ]
        },
        {
          "output_type": "stream",
          "name": "stdout",
          "text": [
            "2.04 ms ± 54.3 µs per loop (mean ± std. dev. of 7 runs, 100 loops each)\n",
            "\n",
            "Using Simple Loop:\n"
          ]
        },
        {
          "output_type": "stream",
          "name": "stdout",
          "text": [
            "2.46 ms ± 84.2 µs per loop (mean ± std. dev. of 7 runs, 100 loops each)\n"
          ]
        }
      ],
      "execution_count": null,
      "metadata": {
        "noteable": {
          "cell_type": "python"
        },
        "ExecuteTime": {
          "end_time": "2023-08-11T20:31:37.926135+00:00",
          "start_time": "2023-08-11T20:31:34.079397+00:00"
        }
      },
      "id": "db65875e-bce7-4ce7-9d5c-4d76b1d694de"
    },
    {
      "cell_type": "markdown",
      "source": [
        "## Big O Analysis for Stack Implementation\n",
        "1. **Pushing onto the stack**: O(1) - Constant time complexity as adding an element to the top of the stack takes constant time regardless of the number of elements.\n",
        "2. **Popping from the stack**: O(1) - Removing an element from the top of the stack is also a constant time operation.\n",
        "3. **Calculating the moving average using the stack**: O(n) - We iterate through the data once, and for each element, we perform constant time operations (push, pop, addition, and subtraction).\n",
        "For the simple loop method, the time complexity is O(n * k) where n is the number of data points and k is the window size for the moving average. This is because for each data point, we sum up k data points to calculate the moving average. In our example, k is small (5), but for larger window sizes, the stack method would be more efficient."
      ],
      "metadata": {
        "noteable": {
          "cell_type": "markdown"
        }
      },
      "id": "ace7fb22-e2aa-4f5e-b939-1f543d3c0d03"
    },
    {
      "cell_type": "markdown",
      "source": [
        "## Using Linked List for Feature Engineering\n",
        "\n",
        "In this section, we'll explore the use of linked lists to create a new feature and compare its efficiency with another method. Linked lists are a fundamental data structure that consists of a sequence of elements, with each element pointing to the next one in the sequence. They can be useful in situations where dynamic memory allocation and deallocation are frequent, or when insertions and deletions are more common than random access."
      ],
      "metadata": {
        "noteable": {
          "cell_type": "markdown"
        }
      },
      "id": "212adf8e-a1bc-496d-909c-87faab3b0b3d"
    },
    {
      "cell_type": "code",
      "source": [
        "from collections import deque\n",
        "import random\n",
        "\n",
        "# Define a simple Node class for our linked list\n",
        "class Node:\n",
        "    def __init__(self, data=None):\n",
        "        self.data = data\n",
        "        self.next = None\n",
        "\n",
        "# Define a LinkedList class\n",
        "class LinkedList:\n",
        "    def __init__(self):\n",
        "        self.head = None\n",
        "\n",
        "    # Add a new node to the end of the linked list\n",
        "    def append(self, data):\n",
        "        new_node = Node(data)\n",
        "        if not self.head:\n",
        "            self.head = new_node\n",
        "            return\n",
        "        last_node = self.head\n",
        "        while last_node.next:\n",
        "            last_node = last_node.next\n",
        "        last_node.next = new_node\n",
        "\n",
        "# Create a new feature using linked list\n",
        "linked_list_feature = LinkedList()\n",
        "for i in range(len(X_train)):\n",
        "    linked_list_feature.append(X_train.iloc[i, 0])  # Appending the first feature from X_train to the linked list\n",
        "\n",
        "# Alternative method: Using Python list\n",
        "list_feature = [X_train.iloc[i, 0] for i in range(len(X_train))]\n",
        "\n",
        "# Time the operations\n",
        "linked_list_time = %timeit -o -r 3 for i in range(len(X_train)): linked_list_feature.append(random.random())\n",
        "list_time = %timeit -o -r 3 list_feature.append(random.random())"
      ],
      "outputs": [
        {
          "output_type": "stream",
          "name": "stdout",
          "text": [
            "7.3 s ± 1.68 s per loop (mean ± std. dev. of 3 runs, 1 loop each)\n"
          ]
        },
        {
          "output_type": "stream",
          "name": "stdout",
          "text": [
            "194 ns ± 5.1 ns per loop (mean ± std. dev. of 3 runs, 10,000,000 loops each)\n"
          ]
        }
      ],
      "execution_count": null,
      "metadata": {
        "noteable": {
          "cell_type": "python"
        },
        "ExecuteTime": {
          "end_time": "2023-08-11T20:29:58.255989+00:00",
          "start_time": "2023-08-11T20:29:23.690842+00:00"
        }
      },
      "id": "162b5c72-e82b-4f67-ae92-6b48ecca71d9"
    },
    {
      "cell_type": "markdown",
      "source": [
        "## Analysis\n",
        "\n",
        "### Time Complexity Analysis\n",
        "\n",
        "1. **Linked List Append Operation**: The time complexity of appending an element to the end of a singly linked list is O(n) in the worst case, as we may have to traverse the entire list to find the end. However, if we maintain a tail pointer, this operation can be done in O(1) time. In our current implementation, we don't maintain a tail pointer, so the complexity is O(n).\n",
        "\n",
        "2. **Python List Append Operation**: Appending an element to the end of a Python list (dynamic array) is an amortized O(1) operation. This means that while individual list operations might take longer, the average time per operation is constant.\n",
        "\n",
        "From the timeit results, we can observe that appending to a Python list is significantly faster than appending to our linked list. This is expected given the time complexities discussed above and the internal optimizations of Python lists.\n",
        "\n",
        "### Space Complexity Analysis\n",
        "\n",
        "1. **Linked List**: The space complexity for our linked list is O(n) for n elements. However, linked lists have an overhead of storing the next pointer for each node, which can be significant.\n",
        "\n",
        "2. **Python List**: The space complexity for a Python list is also O(n) for n elements. However, dynamic arrays (like Python lists) occasionally need to resize, which involves creating a new array and copying over the elements. Despite this, for most practical purposes and due to internal optimizations, Python lists tend to be more space-efficient than our simple linked list implementation.\n",
        "\n",
        "In conclusion, while linked lists offer certain advantages, such as O(1) insertions and deletions (if we have a pointer to the node), they are not as efficient as Python lists for the operations we've considered here. This highlights the importance of choosing the right data structure for the task at hand."
      ],
      "metadata": {
        "noteable": {
          "cell_type": "markdown"
        }
      },
      "id": "64e9be88-0481-467f-b8ec-f4c50782b678"
    },
    {
      "cell_type": "markdown",
      "source": [
        "## Feature Engineering: Discrete Random Variable"
      ],
      "metadata": {
        "noteable": {
          "cell_type": "markdown"
        }
      },
      "id": "f1ead79b-95f1-4029-81d0-08e6fddbf606"
    },
    {
      "cell_type": "markdown",
      "source": [
        "To introduce the concept of discrete random variables, let's create a new feature based on a simple discrete random variable.\n",
        "\n",
        "A discrete random variable is a variable that can take on a countable number of values. Each value has an associated probability. For our dataset, let's create a feature called 'RandomEvent'. This feature will represent a random event that can take on three possible outcomes: 0, 1, or 2. The probabilities for these outcomes will be 0.4, 0.3, and 0.3, respectively.\n",
        "\n",
        "This feature doesn't have a real-world significance in the context of our dataset, but it serves as a good example for understanding discrete random variables."
      ],
      "metadata": {
        "noteable": {
          "cell_type": "markdown"
        }
      },
      "id": "c3007800-3557-4cd4-a42e-e2b2a40a6790"
    },
    {
      "cell_type": "code",
      "source": [
        "import numpy as np\n",
        "\n",
        "# Load the preprocessed data\n",
        "df = pd.read_csv('SPY_pre_train.csv')\n",
        "\n",
        "# Generate the 'RandomEvent' feature based on the given probabilities\n",
        "df['RandomEvent'] = np.random.choice([0, 1, 2], size=len(df), p=[0.4, 0.3, 0.3])\n",
        "\n",
        "# Display the first few rows of the updated dataframe\n",
        "df.head()"
      ],
      "outputs": [],
      "execution_count": null,
      "metadata": {
        "noteable": {
          "cell_type": "python"
        }
      },
      "id": "fce9a27a-9889-4b53-b489-dfb2d978af0f"
    },
    {
      "cell_type": "code",
      "source": [
        "# Update the features and target variable\n",
        "X = df.drop('candlestick_color', axis=1)\n",
        "y = df['candlestick_color']\n",
        "\n",
        "# Split the data into training and test sets\n",
        "X_train, X_test, y_train, y_test = train_test_split(X, y, test_size=0.2, random_state=42)\n",
        "\n",
        "# Train the Random Forest classifier\n",
        "clf = RandomForestClassifier(random_state=42)\n",
        "clf.fit(X_train, y_train)\n",
        "\n",
        "# Make predictions on the test set\n",
        "y_pred = clf.predict(X_test)\n",
        "\n",
        "# Calculate performance metrics\n",
        "accuracy = accuracy_score(y_test, y_pred)\n",
        "precision = precision_score(y_test, y_pred)\n",
        "recall = recall_score(y_test, y_pred)\n",
        "f1 = f1_score(y_test, y_pred)\n",
        "\n",
        "accuracy, precision, recall, f1"
      ],
      "outputs": [
        {
          "output_type": "execute_result",
          "execution_count": null,
          "data": {
            "text/plain": "(0.7287581699346405,\n 0.7446043165467626,\n 0.7545565006075334,\n 0.7495473747736874)"
          },
          "metadata": {}
        }
      ],
      "execution_count": null,
      "metadata": {
        "jupyter": {
          "outputs_hidden": false,
          "source_hidden": false
        },
        "noteable": {
          "cell_type": "code"
        },
        "ExecuteTime": {
          "end_time": "2023-08-11T20:34:06.331993+00:00",
          "start_time": "2023-08-11T20:34:02.774244+00:00"
        }
      },
      "id": "1b9c101e-8d65-45cc-80d9-48a867237fa9"
    },
    {
      "cell_type": "markdown",
      "source": [
        "## Feature Engineering: Continuous Random Variable"
      ],
      "metadata": {
        "noteable": {
          "cell_type": "markdown"
        }
      },
      "id": "85f6019b-ecaf-4e05-9266-5b5fd0a53472"
    },
    {
      "cell_type": "markdown",
      "source": [
        "A continuous random variable can take on an infinite number of possible values within a given range. Unlike discrete random variables, which have distinct and separate values, continuous random variables can take on any value within a range.\n",
        "\n",
        "For our dataset, let's create a feature called 'RandomValue'. This feature will represent a random value drawn from a normal (Gaussian) distribution with a mean of 0 and a standard deviation of 1. This is commonly referred to as the standard normal distribution.\n",
        "\n",
        "Again, this feature doesn't have a real-world significance in the context of our dataset, but it serves as a good example for understanding continuous random variables."
      ],
      "metadata": {
        "noteable": {
          "cell_type": "markdown"
        }
      },
      "id": "1aca1bb4-3481-4116-b79e-a6a215b91349"
    },
    {
      "cell_type": "code",
      "source": [
        "df = pd.read_csv('SPY_pre_train.csv')\n",
        "\n",
        "# Generate the 'RandomValue' feature based on the standard normal distribution\n",
        "df['RandomValue'] = np.random.normal(0, 1, len(df))\n",
        "\n",
        "# Display the first few rows of the updated dataframe\n",
        "df.head()"
      ],
      "outputs": [
        {
          "output_type": "display_data",
          "data": {
            "application/vnd.dataresource+json": {
              "schema": {
                "fields": [
                  {
                    "name": "index",
                    "type": "integer"
                  },
                  {
                    "name": "Unnamed: 0",
                    "type": "integer"
                  },
                  {
                    "name": "Date",
                    "type": "integer"
                  },
                  {
                    "name": "Open",
                    "type": "number"
                  },
                  {
                    "name": "High",
                    "type": "number"
                  },
                  {
                    "name": "Low",
                    "type": "number"
                  },
                  {
                    "name": "Close",
                    "type": "number"
                  },
                  {
                    "name": "Adj Close",
                    "type": "number"
                  },
                  {
                    "name": "Volume",
                    "type": "integer"
                  },
                  {
                    "name": "candlestick_color",
                    "type": "integer"
                  },
                  {
                    "name": "Tomorrow_Open",
                    "type": "number"
                  },
                  {
                    "name": "RandomValue",
                    "type": "number"
                  }
                ],
                "primaryKey": [
                  "index"
                ],
                "pandas_version": "1.4.0"
              },
              "data": [
                {
                  "index": 0,
                  "Unnamed: 0": 0,
                  "Date": 0,
                  "Open": 43.96875,
                  "High": 43.96875,
                  "Low": 43.75,
                  "Close": 43.9375,
                  "Adj Close": 25.122337,
                  "Volume": 1003200,
                  "candlestick_color": 0,
                  "Tomorrow_Open": 43.96875,
                  "RandomValue": -1.4268265767813424
                },
                {
                  "index": 1,
                  "Unnamed: 0": 1,
                  "Date": 3,
                  "Open": 43.96875,
                  "High": 44.25,
                  "Low": 43.96875,
                  "Close": 44.25,
                  "Adj Close": 25.301027,
                  "Volume": 480500,
                  "candlestick_color": 1,
                  "Tomorrow_Open": 44.21875,
                  "RandomValue": 0.06933716171534797
                },
                {
                  "index": 2,
                  "Unnamed: 0": 2,
                  "Date": 4,
                  "Open": 44.21875,
                  "High": 44.375,
                  "Low": 44.125,
                  "Close": 44.34375,
                  "Adj Close": 25.354624,
                  "Volume": 201300,
                  "candlestick_color": 1,
                  "Tomorrow_Open": 44.40625,
                  "RandomValue": 0.8625434846151703
                },
                {
                  "index": 3,
                  "Unnamed: 0": 3,
                  "Date": 5,
                  "Open": 44.40625,
                  "High": 44.84375,
                  "Low": 44.375,
                  "Close": 44.8125,
                  "Adj Close": 25.62265,
                  "Volume": 529400,
                  "candlestick_color": 1,
                  "Tomorrow_Open": 44.96875,
                  "RandomValue": -1.6949734385166126
                },
                {
                  "index": 4,
                  "Unnamed: 0": 4,
                  "Date": 6,
                  "Open": 44.96875,
                  "High": 45.09375,
                  "Low": 44.46875,
                  "Close": 45,
                  "Adj Close": 25.729849,
                  "Volume": 531500,
                  "candlestick_color": 1,
                  "Tomorrow_Open": 44.96875,
                  "RandomValue": 0.8202323983059842
                }
              ],
              "datalink": {
                "display_id": "0fd7628b-f692-4a59-bc8b-6446ac8929b0"
              }
            }
          },
          "metadata": {
            "application/vnd.dataresource+json": {
              "datalink": {
                "dataframe_info": {
                  "default_index_used": true,
                  "orig_size_bytes": 480,
                  "orig_num_rows": 5,
                  "orig_num_cols": 11,
                  "truncated_string_columns": [],
                  "truncated_size_bytes": 480,
                  "truncated_num_rows": 5,
                  "truncated_num_cols": 11
                },
                "dx_settings": {
                  "NUM_PAST_SAMPLES_TRACKED": 3,
                  "ENABLE_DATALINK": true,
                  "DISPLAY_MODE": "simple",
                  "GENERATE_DEX_METADATA": false,
                  "STRINGIFY_INDEX_VALUES": false,
                  "ALLOW_NOTEABLE_ATTRS": true,
                  "DISPLAY_MAX_COLUMNS": 100,
                  "HTML_TABLE_SCHEMA": false,
                  "SAMPLING_FACTOR": 0.1,
                  "LOG_LEVEL": 30,
                  "ENABLE_ASSIGNMENT": true,
                  "FLATTEN_INDEX_VALUES": false,
                  "DEV_MODE": false,
                  "COLUMN_SAMPLING_METHOD": "outer",
                  "FLATTEN_COLUMN_VALUES": true,
                  "DISPLAY_MAX_ROWS": 50000,
                  "ROW_SAMPLING_METHOD": "random",
                  "RANDOM_STATE": 12648430,
                  "DB_LOCATION": ":memory:",
                  "STRINGIFY_COLUMN_VALUES": true,
                  "SAMPLING_METHOD": "random",
                  "MAX_STRING_LENGTH": 250,
                  "MAX_RENDER_SIZE_BYTES": 104857600,
                  "RESET_INDEX_VALUES": false
                },
                "display_id": "0fd7628b-f692-4a59-bc8b-6446ac8929b0",
                "applied_filters": [],
                "sample_history": [],
                "sampling_time": "2023-08-11T20:34:53.627408",
                "variable_name": "unk_dataframe_5e2077ef08d64ef5854bf4cf246a729a",
                "user_variable_name": null
              },
              "display_id": "0fd7628b-f692-4a59-bc8b-6446ac8929b0"
            }
          }
        }
      ],
      "execution_count": null,
      "metadata": {
        "noteable": {
          "cell_type": "python"
        },
        "ExecuteTime": {
          "end_time": "2023-08-11T20:34:53.785906+00:00",
          "start_time": "2023-08-11T20:34:53.531312+00:00"
        },
        "datalink": {
          "0fd7628b-f692-4a59-bc8b-6446ac8929b0": {
            "applied_filters": [],
            "dataframe_info": {
              "default_index_used": true,
              "orig_num_cols": 11,
              "orig_num_rows": 5,
              "orig_size_bytes": 480,
              "truncated_num_cols": 11,
              "truncated_num_rows": 5,
              "truncated_size_bytes": 480,
              "truncated_string_columns": []
            },
            "display_id": "0fd7628b-f692-4a59-bc8b-6446ac8929b0",
            "dx_settings": {
              "ALLOW_NOTEABLE_ATTRS": true,
              "COLUMN_SAMPLING_METHOD": "outer",
              "DB_LOCATION": ":memory:",
              "DEV_MODE": false,
              "DISPLAY_MAX_COLUMNS": 100,
              "DISPLAY_MAX_ROWS": 50000,
              "DISPLAY_MODE": "simple",
              "ENABLE_ASSIGNMENT": true,
              "ENABLE_DATALINK": true,
              "FLATTEN_COLUMN_VALUES": true,
              "FLATTEN_INDEX_VALUES": false,
              "GENERATE_DEX_METADATA": false,
              "HTML_TABLE_SCHEMA": false,
              "LOG_LEVEL": 30,
              "MAX_RENDER_SIZE_BYTES": 104857600,
              "MAX_STRING_LENGTH": 250,
              "NUM_PAST_SAMPLES_TRACKED": 3,
              "RANDOM_STATE": 12648430,
              "RESET_INDEX_VALUES": false,
              "ROW_SAMPLING_METHOD": "random",
              "SAMPLING_FACTOR": 0.1,
              "SAMPLING_METHOD": "random",
              "STRINGIFY_COLUMN_VALUES": true,
              "STRINGIFY_INDEX_VALUES": false
            },
            "sample_history": [],
            "sampling_time": "2023-08-11T20:34:53.627408",
            "user_variable_name": null,
            "variable_name": "unk_dataframe_5e2077ef08d64ef5854bf4cf246a729a"
          }
        }
      },
      "id": "0990db95-e8da-4224-ab6c-a5ac81005411"
    },
    {
      "cell_type": "code",
      "source": [
        "# Update the features and target variable\n",
        "X = df.drop('candlestick_color', axis=1)\n",
        "y = df['candlestick_color']\n",
        "\n",
        "# Split the data into training and test sets\n",
        "X_train, X_test, y_train, y_test = train_test_split(X, y, test_size=0.2, random_state=42)\n",
        "\n",
        "# Train the Random Forest classifier\n",
        "clf = RandomForestClassifier(random_state=42)\n",
        "clf.fit(X_train, y_train)\n",
        "\n",
        "# Make predictions on the test set\n",
        "y_pred = clf.predict(X_test)\n",
        "\n",
        "# Calculate performance metrics\n",
        "accuracy = accuracy_score(y_test, y_pred)\n",
        "precision = precision_score(y_test, y_pred)\n",
        "recall = recall_score(y_test, y_pred)\n",
        "f1 = f1_score(y_test, y_pred)\n",
        "\n",
        "accuracy, precision, recall, f1"
      ],
      "outputs": [
        {
          "output_type": "execute_result",
          "execution_count": null,
          "data": {
            "text/plain": "(0.703921568627451, 0.725609756097561, 0.7229647630619684, 0.7242848447961047)"
          },
          "metadata": {}
        }
      ],
      "execution_count": null,
      "metadata": {
        "jupyter": {
          "outputs_hidden": false,
          "source_hidden": false
        },
        "noteable": {
          "cell_type": "code"
        },
        "ExecuteTime": {
          "end_time": "2023-08-11T20:35:01.065265+00:00",
          "start_time": "2023-08-11T20:34:57.588328+00:00"
        }
      },
      "id": "dd2e447e-8d7a-4a00-9f0e-644a9e85e15d"
    }
  ],
  "metadata": {
    "noteable-chatgpt": {
      "create_notebook": {
        "openai_conversation_id": "f42753a5-7c1f-5b45-906b-0531ec553365",
        "openai_ephemeral_user_id": "cf32bbe7-947c-5dbb-b1da-8787d33143d5",
        "openai_subdivision1_iso_code": "US-NJ"
      }
    },
    "kernel_info": {
      "name": "python3"
    },
    "noteable": {
      "last_transaction_id": "ad5a6480-7781-43ca-af0e-5294da0fb041",
      "last_delta_id": "5c863958-ad4c-4db3-805b-d21da4f29d01"
    },
    "kernelspec": {
      "name": "python3",
      "display_name": "Python 3.9",
      "language": "python"
    },
    "selected_hardware_size": "small",
    "nteract": {
      "version": "noteable@2.9.0"
    }
  },
  "nbformat": 4,
  "nbformat_minor": 5
}